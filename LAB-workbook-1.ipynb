{
 "cells": [
  {
   "cell_type": "markdown",
   "id": "c73dc7a5",
   "metadata": {
    "editable": false
   },
   "source": [
    "# NUMBERS"
   ]
  },
  {
   "cell_type": "markdown",
   "id": "fabf2f7a",
   "metadata": {
    "editable": false
   },
   "source": [
    "SAMPLE QUESTION\n",
    "\n",
    "How can we convert a variable that is containing a float to an int ?\n",
    "\n",
    "a=45.235     # we want the variable a to contain the int part of this, which would be 45"
   ]
  },
  {
   "cell_type": "code",
   "execution_count": 1,
   "id": "a1eb1fd4",
   "metadata": {},
   "outputs": [
    {
     "name": "stdout",
     "output_type": "stream",
     "text": [
      "45\n"
     ]
    }
   ],
   "source": [
    "a=45.235\n",
    "a=int(a)\n",
    "print(a)"
   ]
  },
  {
   "cell_type": "markdown",
   "id": "b49ca30a",
   "metadata": {
    "editable": false
   },
   "source": [
    "### Question 01\n",
    "\n",
    "How can you get the units place from a number ?\n",
    "\n",
    "We have a variable a=753 how can we get the units place digit into another variable b ?"
   ]
  },
  {
   "cell_type": "code",
   "execution_count": 1,
   "id": "c1fa2b78",
   "metadata": {},
   "outputs": [
    {
     "name": "stdout",
     "output_type": "stream",
     "text": [
      "3\n"
     ]
    }
   ],
   "source": [
    "a=753\n",
    "unit=a%10\n",
    "print(unit)"
   ]
  },
  {
   "cell_type": "markdown",
   "id": "ae968262",
   "metadata": {
    "editable": false
   },
   "source": [
    "# STRINGS"
   ]
  },
  {
   "cell_type": "markdown",
   "id": "3a9d6702",
   "metadata": {
    "editable": false
   },
   "source": [
    "### Question 02\n",
    "\n",
    "We have a DNA string in a variable dna=\"AATGTGTAGCTGACCCGTGACCAAAT\"\n",
    "\n",
    "Build the RNA string in a variable rna, using the dna variable"
   ]
  },
  {
   "cell_type": "code",
   "execution_count": 2,
   "id": "9ae128ec",
   "metadata": {},
   "outputs": [
    {
     "name": "stdout",
     "output_type": "stream",
     "text": [
      "AAUGUGUAGCUGACCCGUGACCAAAU\n"
     ]
    }
   ],
   "source": [
    "dna=\"AATGTGTAGCTGACCCGTGACCAAAT\"\n",
    "rna=dna.replace(\"T\",\"U\")\n",
    "print(rna)"
   ]
  },
  {
   "cell_type": "markdown",
   "id": "b19fa674",
   "metadata": {
    "editable": false
   },
   "source": [
    "### Question 03\n",
    "\n",
    "How can we build two strings b and c, such that every alternate characters go into either resulting strings. \n",
    "\n",
    "a=\"ABCDEFGHIJKLMNOPQRSTUVWXYZ\"\n",
    "\n",
    "So we want the variable b to contain \"ACEGI...and so on\" and variable c to contain \"BDFH....and so on\""
   ]
  },
  {
   "cell_type": "code",
   "execution_count": 3,
   "id": "9217fff5",
   "metadata": {},
   "outputs": [
    {
     "name": "stdout",
     "output_type": "stream",
     "text": [
      "ACEGIKMOQSUWY\n",
      "BDFHJLNPRTVXZ\n"
     ]
    }
   ],
   "source": [
    "a=\"ABCDEFGHIJKLMNOPQRSTUVWXYZ\"\n",
    "b=a[0::2]\n",
    "c=a[1::2]\n",
    "print(b)\n",
    "print(c)"
   ]
  },
  {
   "cell_type": "markdown",
   "id": "22f496bb",
   "metadata": {
    "editable": false
   },
   "source": [
    "### Question 04\n",
    "\n",
    "In a dna string, we want to find out the start position of the last TATA pattern.\n",
    "\n",
    "dna=\"AATATACGCGTATAGGCTATAGGG\"\n",
    "\n",
    "In this string, we should get the position as 17. How can we do this ?\n",
    "\n",
    "Hint: Readup about the string method .rfind() ( https://www.w3schools.com/python/python_ref_string.asp )"
   ]
  },
  {
   "cell_type": "code",
   "execution_count": 4,
   "id": "25229e30",
   "metadata": {},
   "outputs": [
    {
     "name": "stdout",
     "output_type": "stream",
     "text": [
      "17\n"
     ]
    }
   ],
   "source": [
    "dna=\"AATATACGCGTATAGGCTATAGGG\"\n",
    "pos=dna.rfind(\"TATA\")\n",
    "print(pos)"
   ]
  },
  {
   "cell_type": "markdown",
   "id": "4eed48c0",
   "metadata": {
    "editable": false
   },
   "source": [
    "### Question 05\n",
    "\n",
    "Get the reverse complement of a DNA string\n",
    "\n",
    "dna=\"AATATACGCGTATAGGCTATAGGG\"\n",
    "\n",
    "Hint: Readup .maketrans(), .translate() methods of strings ( https://www.w3schools.com/python/python_ref_string.asp  )"
   ]
  },
  {
   "cell_type": "code",
   "execution_count": 5,
   "id": "1ada87f2",
   "metadata": {},
   "outputs": [
    {
     "name": "stdout",
     "output_type": "stream",
     "text": [
      "CCCTATAGCCTATACGCGTATATT\n"
     ]
    }
   ],
   "source": [
    "dna=\"AATATACGCGTATAGGCTATAGGG\"\n",
    "mytable = dna.maketrans(\"ATGC\", \"TACG\")\n",
    "rdna=dna.translate(mytable)\n",
    "cdna=rdna[::-1]\n",
    "print(cdna)"
   ]
  },
  {
   "cell_type": "markdown",
   "id": "7505b8aa",
   "metadata": {
    "editable": false,
    "n": "Avinash"
   },
   "source": [
    "### Question 06\n",
    "\n",
    "From a RNA string extract the sequence starting from first occurrence of AUG till the first occurrence of UAG\n",
    "\n",
    "rna=\"GGCGAUGCCGAUUGCUAGCGCGCGA\"\n",
    "\n",
    "So we want the resulting string to be \"AUGCCGAUUGCUAG\" where both the starting AUG and the ending UAG are included.\n",
    "\n",
    "Your code should be able to extract this requirement from any different RNA string also.\n",
    "\n",
    "Assumption: The RNA string would contain AUG and will be followed by UAG somewhere in the string"
   ]
  },
  {
   "cell_type": "code",
   "execution_count": 6,
   "id": "ca4cdf84",
   "metadata": {},
   "outputs": [
    {
     "name": "stdout",
     "output_type": "stream",
     "text": [
      "AUGCCGAUUGCUAG\n"
     ]
    }
   ],
   "source": [
    "rna=\"GGCGAUGCCGAUUGCUAGCGCGCGA\"\n",
    "pos1=rna.find(\"AUG\")\n",
    "pos2=rna.find(\"UAG\")\n",
    "codon=rna[pos1:(pos2+3)]\n",
    "print(codon)"
   ]
  }
 ],
 "metadata": {
  "kernelspec": {
   "display_name": "Python 3 (ipykernel)",
   "language": "python",
   "name": "python3"
  },
  "language_info": {
   "codemirror_mode": {
    "name": "ipython",
    "version": 3
   },
   "file_extension": ".py",
   "mimetype": "text/x-python",
   "name": "python",
   "nbconvert_exporter": "python",
   "pygments_lexer": "ipython3",
   "version": "3.9.4"
  }
 },
 "nbformat": 4,
 "nbformat_minor": 5
}
