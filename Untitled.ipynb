{
 "cells": [
  {
   "cell_type": "code",
   "execution_count": 7,
   "id": "87011af9",
   "metadata": {
    "scrolled": true
   },
   "outputs": [
    {
     "name": "stdout",
     "output_type": "stream",
     "text": [
      "Enter file namemulti1.txt\n",
      "Sequence ID: AJ000409.1\n",
      "Description: Swietenia humilis DNA for simple tandem repeat (300bp)\n",
      "Sequence ID: X58049.1\n",
      "Description: H.sapiens DNA for ferredoxin repeat region (500bp)\n",
      "Sequence ID: X61906.1\n",
      "Description: R.norvegicus RAT61 DNA\n",
      "Sequence ID: MQ105588.1\n",
      "Description: Sequence 25 from Patent EP3844290\n"
     ]
    }
   ],
   "source": [
    "fname=input(\"Enter file name\")\n",
    "with open(fname,\"r\") as F:\n",
    "    for s in F:\n",
    "        if s.startswith(\">\"):\n",
    "            L=s.split()\n",
    "            seqid=L.pop(0)\n",
    "            print(\"Sequence ID:\",seqid[1:])\n",
    "            des=' '.join(L)\n",
    "            print(\"Description:\",des)\n",
    "        else:\n",
    "            continue"
   ]
  },
  {
   "cell_type": "code",
   "execution_count": 16,
   "id": "8fbbc3e6",
   "metadata": {},
   "outputs": [
    {
     "name": "stdout",
     "output_type": "stream",
     "text": [
      "CGGTTTTTTGCTAGTTCACAGAAAGACCATTTTTAATATGAAAAGAGAAAAACAATTTGAAGGCCCCACAATTTGTTGTGTAACAACATAATTTCAAGTAAAGTGAATGTGATTAAAACATCTTGATTTCACAAAGCCATTCAGAGGAGGCTTCGACAAACGCAAAGCGACCCAAACCCTGGAGGGTCACATCCCGGCTGCTACAAACCTCGGCGGGGCGGCCCCGCTCTTGCGGCCGGGACAGCGCAGCGGCAGCAGGGGCCGCAGGGGACCCGCAGATTGGCACGCCGCTCCCCATCCCCGCAGCGCGTCTGCACCGGAGACTCTGCGGGGATTGTAGCCGGAGGGCGGGCCGGGCTCCGAGGCGCTGCTCAGGCATTGGGGTTTGTCCTCATGAGCTCCACGTCGGCGTGCACCATCTCCCTCACCAGCTCATCGAAAGCGACCCGGGGCTTCCAGTTCAGCTTCTGTTTCGCTTTGGTGCAGTCGCCCTGCAGAAAGTCCTCGGCGGCAGCGTGCGACCCTCTTTCTAACGCGGCCGTGGATGTTTCTTCCCGGGCCGCAGCCAAGCGCGGTTCTTCCTGGGCGGTGGCTTTGGGCTTTTCGTACCCACAGTCAAGTCAGTTCACGTCGCCTCCCGCACACACGCGTTCATAAAACGAAACTGGAGTTTCACGAAGCAATTCTTAGGCTTAGCGTCCAGGAACGCTGTAGACGGTCTATTCTATTCTACCCCTATTCTACTCGGTTCGATTCTGTTCCTAAGAAAATGCCGATCTCGACCCACTTGTACTTCCACGAGCGGAGCTGCAGCCAGCAGCTCTGCAGGACCCCGCACTGCCCGCCACCGTCCCCTCTGGCAGTGCCTTCCTCCTCCCGCTTTCCCCAACTGCTCCACTCGAGGAAACCGGAGGACAGGTTCAGCTCACTGAAAGGGGTCCCAACAGAGGTGAAGATCCAAGAAATGACGAAGCTGGGCCACGAGCTGATGCTGTGTGCGCCAGATGACCAGGAGCTCCTCAAGGGCTGTGCCTGCGCCCAGAAGCAGCTACACTTCATGGACCAGTTGCTCGATACCATCCGGAGCCTGACCATTGGGTGCTCCAGTTGCTCGAGCCTGATGGAGCACTTCGAGGACACCAGGGAGAAGAACGAGGCCTTGCTGGGGGAGCTCTTCTCTAGCCCCCACCTGCAGATGCTCCTGAATCCAGAGTGCGACCCGTGGCCCCTGGACATGCAGCCCCTCCTCAACAAGCAGAGTGATGACTGGCAGTGGGCCAGTGCCTCTGCCAAGTCCGAGGAGGAGGAGAAGCTGGCGGAGCTTGCCAGGCAGCTGCAGGAGAGTGCTGCCAAGTTGCACGCGCTTAGAACGGAGTACTTTGCACAGCATGAGCAAGGGGCTGCTGCGGGCAGCACGACATCAGCACCCTAGACCAGAAGCTGCGTCTGGTCACTTCCGACTTCCACCAGCTAATCTTGGCTTTTCTCCAAGTCTACGACGACGAGCTGGGCGAGTGCTGCCAGCGCCCAGGCCCTGACCTCCACCCGTGCGGCCCCATCATCCAGGCCACGCACCAGAATCTGACTTCCTACAGCCAACTGCTGCAAGTGGTCATGGCAGTTGCTGACACCTCTGCGAAGGCCGTGGAGACCGTGAAGAAGCAGCAAGGCGAGCAGATCTGCTGGGGTGGCAGCAGCTCCGTCATGAGTCTAGCTACCAAGATGAATGAACTAATGGAGAAATAGAAAGTCTTCAGTGATGGCCTACGCCAAAGCACAGGATGGGGCGGGCAGGAAGCCCTCTCCCAAGATCGAGTTGGCCGAGGATGGATGATTGTGGCAGCAGAAGCCGTTGCAGCCCCACGTTGTGCTCTAGGCAGGGACCTTTGGCCCCTTTGGGGAGGGAGAGACAGACGGGCGGTTTGACTTGGACACAAAGAAAGCCTTGGTTTCTAAAAAAAAAAAAAAAAAAAAAAAAAAAAAAAAAAAAAAAAAAAAAA\n"
     ]
    }
   ],
   "source": [
    "def loadFASTA(fname):\n",
    "    with open(fname,\"r\") as F:\n",
    "        d={}\n",
    "        seq=''\n",
    "        for s in F:\n",
    "            if s.startswith(\">\"):\n",
    "                L=s.split()\n",
    "                d['seqid']=L.pop(0)[1:]\n",
    "                d['des']=' '.join(L)\n",
    "            else:\n",
    "                seq=seq+s.strip()\n",
    "        d['seq']=seq\n",
    "        return d\n",
    "D=loadFASTA(\"sequence.fasta\")\n",
    "print(D[\"seq\"])"
   ]
  },
  {
   "cell_type": "code",
   "execution_count": null,
   "id": "5843a013",
   "metadata": {},
   "outputs": [],
   "source": []
  }
 ],
 "metadata": {
  "kernelspec": {
   "display_name": "Python 3 (ipykernel)",
   "language": "python",
   "name": "python3"
  },
  "language_info": {
   "codemirror_mode": {
    "name": "ipython",
    "version": 3
   },
   "file_extension": ".py",
   "mimetype": "text/x-python",
   "name": "python",
   "nbconvert_exporter": "python",
   "pygments_lexer": "ipython3",
   "version": "3.9.4"
  }
 },
 "nbformat": 4,
 "nbformat_minor": 5
}
