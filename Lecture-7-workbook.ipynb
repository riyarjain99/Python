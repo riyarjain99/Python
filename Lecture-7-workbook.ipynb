{
 "cells": [
  {
   "cell_type": "markdown",
   "id": "cb3a509c",
   "metadata": {},
   "source": [
    "# PROGRAMMING EXERCISES ( CLASS ROOM PRACTICE )\n",
    "\n",
    "In this session we would be solving few programming problems"
   ]
  },
  {
   "cell_type": "markdown",
   "id": "7002c3e5",
   "metadata": {},
   "source": [
    "### Input a number and calculate the sum of the numbers from 0 till that number.\n",
    "\n",
    "So if the number input is 5 , then the output calculated should be 0+1+2+3+4+5"
   ]
  },
  {
   "cell_type": "code",
   "execution_count": 2,
   "id": "49f7c8e7",
   "metadata": {},
   "outputs": [
    {
     "name": "stdout",
     "output_type": "stream",
     "text": [
      "Enter a number:5\n",
      "15\n"
     ]
    }
   ],
   "source": [
    "n=int(input(\"Enter a number:\"))\n",
    "s=0\n",
    "for x in range(n+1):\n",
    "    s=s+x\n",
    "print(s)"
   ]
  },
  {
   "cell_type": "code",
   "execution_count": 3,
   "id": "cb38dd3a",
   "metadata": {},
   "outputs": [
    {
     "name": "stdout",
     "output_type": "stream",
     "text": [
      "Enter a number:5\n",
      "15\n"
     ]
    }
   ],
   "source": [
    "n=int(input(\"Enter a number:\"))\n",
    "s=0\n",
    "i=0\n",
    "while i<=n:\n",
    "    s=s+i\n",
    "    i=i+1\n",
    "print(s)"
   ]
  },
  {
   "cell_type": "markdown",
   "id": "c4b3aa1c",
   "metadata": {},
   "source": [
    "### Input a number, and calculate the factorial value. We will like to place a limit on the size of the number whose factorial we can calculate. So we want to consider only a number that is between 0 and 10. If the number is more than 10, then display appropriate message and do not calculate factorial for that."
   ]
  },
  {
   "cell_type": "code",
   "execution_count": 5,
   "id": "f689273e",
   "metadata": {},
   "outputs": [
    {
     "name": "stdout",
     "output_type": "stream",
     "text": [
      "Enter a number:5\n",
      "120\n"
     ]
    }
   ],
   "source": [
    "n=int(input(\"Enter a number:\"))\n",
    "f=1\n",
    "for x in range(1,n+1):\n",
    "    f=f*x\n",
    "print(f)"
   ]
  },
  {
   "cell_type": "code",
   "execution_count": 7,
   "id": "0dd50ebe",
   "metadata": {},
   "outputs": [
    {
     "name": "stdout",
     "output_type": "stream",
     "text": [
      "Enter a number:5\n",
      "120\n"
     ]
    }
   ],
   "source": [
    "n=int(input(\"Enter a number:\"))\n",
    "f=1\n",
    "for x in range(n,0,-1):\n",
    "    f=f*x\n",
    "print(f)"
   ]
  },
  {
   "cell_type": "markdown",
   "id": "e6434de7",
   "metadata": {},
   "source": [
    "### Input a number and display all the factors of this number\n",
    "So if the number input is 12, then the factors displayed should be 1 2 3 4 6 12"
   ]
  },
  {
   "cell_type": "code",
   "execution_count": 8,
   "id": "719774dc",
   "metadata": {},
   "outputs": [
    {
     "name": "stdout",
     "output_type": "stream",
     "text": [
      "Enter a number:12\n",
      "1\n",
      "2\n",
      "3\n",
      "4\n",
      "6\n",
      "12\n"
     ]
    }
   ],
   "source": [
    "n=int(input(\"Enter a number:\"))\n",
    "for x in range(1,n+1):\n",
    "    if n%x == 0:\n",
    "        print(x)"
   ]
  },
  {
   "cell_type": "markdown",
   "id": "6d40411e",
   "metadata": {},
   "source": [
    "### Input a string, and tell how many vowels are contained in the string. A person can enter upper case as well as lower case or even mixed case during his/her input of the string."
   ]
  },
  {
   "cell_type": "code",
   "execution_count": 9,
   "id": "f4269c80",
   "metadata": {},
   "outputs": [
    {
     "name": "stdout",
     "output_type": "stream",
     "text": [
      "Enter a string: a cat ran\n",
      "3\n"
     ]
    }
   ],
   "source": [
    "s=input(\"Enter a string: \")\n",
    "vowels=\"aeiouAEIOU\"\n",
    "x=0\n",
    "for c in s:\n",
    "    if c in vowels:\n",
    "        x=x+1\n",
    "        \n",
    "print(x)\n"
   ]
  },
  {
   "cell_type": "markdown",
   "id": "24888ce3",
   "metadata": {},
   "source": [
    "### Input a number and build a list containing all the factors of this number\n",
    "So if the number input is 12, then the list created should be [1,2,3,4,6,12]"
   ]
  },
  {
   "cell_type": "code",
   "execution_count": 14,
   "id": "4f6c5f90",
   "metadata": {},
   "outputs": [
    {
     "name": "stdout",
     "output_type": "stream",
     "text": [
      "Enter a number:12\n",
      "[1, 2, 3, 4, 6, 12]\n"
     ]
    }
   ],
   "source": [
    "n=int(input(\"Enter a number:\"))\n",
    "L=[]\n",
    "for x in range(1,n+1):\n",
    "    if n%x == 0:\n",
    "        L.append(x)\n",
    "print(L)"
   ]
  },
  {
   "cell_type": "code",
   "execution_count": 3,
   "id": "a30e86f9",
   "metadata": {},
   "outputs": [
    {
     "name": "stdout",
     "output_type": "stream",
     "text": [
      "Enter a number:12\n",
      "[1, 2, 3, 4, 6, 12]\n"
     ]
    }
   ],
   "source": [
    "n=int(input(\"Enter a number:\"))\n",
    "L=[x for x in range(1,n+1) if n%x==0]\n",
    "print(L)"
   ]
  },
  {
   "cell_type": "markdown",
   "id": "4ee5cf12",
   "metadata": {},
   "source": [
    "### We have a string containing a mobile number. Write a program that can tell us which digits are NOT in the mobile number. "
   ]
  },
  {
   "cell_type": "code",
   "execution_count": 16,
   "id": "2a29f863",
   "metadata": {},
   "outputs": [
    {
     "name": "stdout",
     "output_type": "stream",
     "text": [
      "0\n",
      "3\n",
      "4\n",
      "6\n",
      "7\n"
     ]
    }
   ],
   "source": [
    "s=\"9818995928\"\n",
    "digits=\"0123456789\"\n",
    "for d in digits:\n",
    "    if d not in s:\n",
    "        print(d)\n",
    "        "
   ]
  },
  {
   "cell_type": "markdown",
   "id": "37053e03",
   "metadata": {},
   "source": [
    "### Input a string from the user, and detect if it is a Palindrome or not. A palindrome is a string that is same when you read from left to right as well as right to left, like \"MADAM\""
   ]
  },
  {
   "cell_type": "code",
   "execution_count": 18,
   "id": "a0151db2",
   "metadata": {},
   "outputs": [
    {
     "name": "stdout",
     "output_type": "stream",
     "text": [
      "Enter a string:CAT\n",
      "Not Palindrome\n"
     ]
    }
   ],
   "source": [
    "s=input(\"Enter a string:\")\n",
    "r=s[::-1]\n",
    "if s == r:\n",
    "    print(\"Palindrome\")\n",
    "else:\n",
    "    print(\"Not Palindrome\")"
   ]
  },
  {
   "cell_type": "markdown",
   "id": "9814fbdf",
   "metadata": {},
   "source": [
    "### We have a string s containing a sentence. We wish to build a List of words from this sentence, such that we get all the words of the string in the List, however no word should get repeated there."
   ]
  },
  {
   "cell_type": "code",
   "execution_count": 1,
   "id": "d7f7add1",
   "metadata": {
    "scrolled": false
   },
   "outputs": [
    {
     "name": "stdout",
     "output_type": "stream",
     "text": [
      "['A', 'CAT', 'RAN', 'AFTER', 'DOG', 'BUT', 'THE', 'VERY', 'FAST', 'AND', 'COULD', 'NOT', 'CATCH']\n"
     ]
    }
   ],
   "source": [
    "s=\"A CAT RAN AFTER A DOG BUT THE DOG RAN VERY FAST AND CAT COULD NOT CATCH THE DOG\"\n",
    "W=s.split()\n",
    "L=[]\n",
    "for word in W:\n",
    "    if word not in L:\n",
    "        L.append(word)\n",
    "print (L)"
   ]
  },
  {
   "cell_type": "markdown",
   "id": "fde26cba",
   "metadata": {},
   "source": [
    "### We have a DNA string that contains characters A, T, C and G. In this string, we have to find out all the locations where the pattern 'TATA' was found."
   ]
  },
  {
   "cell_type": "code",
   "execution_count": 7,
   "id": "faa3aecc",
   "metadata": {},
   "outputs": [
    {
     "name": "stdout",
     "output_type": "stream",
     "text": [
      "5\n",
      "16\n"
     ]
    }
   ],
   "source": [
    "dna='AATGCTATAGCGCATGTATAAATTGCAT'\n",
    "i=0\n",
    "while(i<len(dna)):\n",
    "    pos=dna.find(\"TATA\",i)\n",
    "    if pos==-1:\n",
    "        break\n",
    "    print(pos)\n",
    "    i=pos+4  "
   ]
  },
  {
   "cell_type": "markdown",
   "id": "2f139347",
   "metadata": {},
   "source": [
    "### Input a lot of numbers ( keep inputting until 0 is entered ). We have to build two lists, one for odd numbers, and one for even numbers. So as we enter a number, if it is odd, then append this number to the list of odd numbers, otherwise append it to the list of even numbers. At the end, display how many total numbers were entered, how many were odd and how many were even, and also display both the lists."
   ]
  },
  {
   "cell_type": "code",
   "execution_count": 12,
   "id": "357566d1",
   "metadata": {},
   "outputs": [
    {
     "name": "stdout",
     "output_type": "stream",
     "text": [
      "Enter no.2\n",
      "Enter no.3\n",
      "Enter no.4\n",
      "Enter no.5\n",
      "Enter no.6\n",
      "Enter no.0\n",
      "Number in even list= 3\n",
      "[2, 4, 6]\n",
      "Number in odd list= 2\n",
      "[3, 5]\n"
     ]
    }
   ],
   "source": [
    "odd=[]\n",
    "even=[]\n",
    "while True:\n",
    "    n=int(input(\"Enter no.\"))\n",
    "    if n==0:\n",
    "        break\n",
    "    elif n%2==0:\n",
    "        even.append(n)\n",
    "    else:\n",
    "        odd.append(n)\n",
    "print(\"Number in even list=\",len(even))\n",
    "print(even)\n",
    "print(\"Number in odd list=\", len(odd))\n",
    "print(odd)"
   ]
  },
  {
   "cell_type": "code",
   "execution_count": null,
   "id": "eb65553c",
   "metadata": {},
   "outputs": [],
   "source": []
  }
 ],
 "metadata": {
  "kernelspec": {
   "display_name": "Python 3 (ipykernel)",
   "language": "python",
   "name": "python3"
  },
  "language_info": {
   "codemirror_mode": {
    "name": "ipython",
    "version": 3
   },
   "file_extension": ".py",
   "mimetype": "text/x-python",
   "name": "python",
   "nbconvert_exporter": "python",
   "pygments_lexer": "ipython3",
   "version": "3.9.4"
  }
 },
 "nbformat": 4,
 "nbformat_minor": 5
}
