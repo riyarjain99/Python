{
 "cells": [
  {
   "cell_type": "markdown",
   "id": "3e89185a",
   "metadata": {},
   "source": [
    "# PROBLEM SOLVING\n",
    "\n",
    "We have a file containing few sequence Ids.\n",
    "\n",
    "Download these sequences from NCBI NT database in genbank format, extract all the gene features and store them in separate fasta files using the gene name as the name/description and the ID as the <sequence ID>.<n> where n is an increasing serial. So if the sequence ID is AE001 and it has 3 genes in it, then we will generate 3 fasta files AE001.1 AE001.2 and AE001.3 The fasta filenames and the ID can be considered as same.\n",
    "\n",
    "Further it can be explored if we were to save all the genes of a sequence in one fasta as a multi-fasta file. So we will generate fewer files ( only for the sequences where we found gene features )\n",
    "\n",
    "The input file may contain the following sequence IDs or more.\n",
    "```\n",
    "AE003580.2\n",
    "NM_164615.2\n",
    "NT_033779.5\n",
    "AF191665.1\n",
    "SRMA01025791.1\n",
    "```\n",
    "\n"
   ]
  },
  {
   "cell_type": "code",
   "execution_count": 12,
   "id": "b72d2e7b",
   "metadata": {
    "collapsed": true
   },
   "outputs": [
    {
     "name": "stdout",
     "output_type": "stream",
     "text": [
      "CG12400\n",
      "AE003580.2.1\n",
      "556\n",
      "Mad\n",
      "AE003580.2.2\n",
      "13155\n",
      "glaikit\n",
      "AE003580.2.3\n",
      "2080\n",
      "CG8825\n",
      "AE003580.2.4\n",
      "633\n",
      "CG3488\n",
      "AE003580.2.5\n",
      "5339\n",
      "CG8829\n",
      "AE003580.2.6\n",
      "842\n",
      "CG15405\n",
      "AE003580.2.7\n",
      "4350\n",
      "CG18555\n",
      "AE003580.2.8\n",
      "1136\n",
      "CG3485\n",
      "AE003580.2.9\n",
      "555\n",
      "CG15404\n",
      "AE003580.2.10\n",
      "434\n",
      "CG3347\n",
      "AE003580.2.11\n",
      "11810\n",
      "CG3332\n",
      "AE003580.2.12\n",
      "3658\n",
      "CG9664\n",
      "AE003580.2.13\n",
      "3310\n",
      "CG9663\n",
      "AE003580.2.14\n",
      "6415\n",
      "CG15406\n",
      "AE003580.2.15\n",
      "2429\n",
      "CG3277\n",
      "AE003580.2.16\n",
      "3740\n",
      "CG3326\n",
      "AE003580.2.17\n",
      "2308\n",
      "CG8837\n",
      "AE003580.2.18\n",
      "2448\n",
      "CG15407\n",
      "AE003580.2.19\n",
      "5259\n",
      "CG3285\n",
      "AE003580.2.20\n",
      "1729\n",
      "CG15408\n",
      "AE003580.2.21\n",
      "1813\n",
      "CG3327\n",
      "AE003580.2.22\n",
      "3319\n",
      "CG15410\n",
      "AE003580.2.23\n",
      "921\n",
      "CG8838\n",
      "AE003580.2.24\n",
      "753\n",
      "CG3304\n",
      "AE003580.2.25\n",
      "3288\n",
      "CG15411\n",
      "AE003580.2.26\n",
      "273\n",
      "CG15412\n",
      "AE003580.2.27\n",
      "1628\n",
      "CG9662\n",
      "AE003580.2.28\n",
      "510\n",
      "Ptpa\n",
      "AE003580.2.29\n",
      "1583\n",
      "CG15409\n",
      "AE003580.2.30\n",
      "261\n",
      "CG3254\n",
      "AE003580.2.31\n",
      "2412\n",
      "CG8840\n",
      "AE003580.2.32\n",
      "472\n",
      "CG15413\n",
      "AE003580.2.33\n",
      "546\n"
     ]
    }
   ],
   "source": [
    "from Bio import SeqIO\n",
    "sr=SeqIO.read(\"AE003580.2.gb\",\"genbank\")\n",
    "ctr=1\n",
    "for feature_element in sr.features:\n",
    "    if feature_element.type=='gene':\n",
    "        gene_name=feature_element.qualifiers['gene'][0]\n",
    "        print(gene_name)\n",
    "        newseqid=sr.id+\".\"+str(ctr)\n",
    "        print(newseqid)\n",
    "        feature_seq=feature_element.extract(sr.seq)\n",
    "        print(len(feature_seq))\n",
    "        ctr=ctr+1"
   ]
  },
  {
   "cell_type": "code",
   "execution_count": 15,
   "id": "ee5916c7",
   "metadata": {},
   "outputs": [
    {
     "name": "stdout",
     "output_type": "stream",
     "text": [
      "AE003580.2,NM_164615.2,NT_033779.5,AF191665.1,SRMA01025791.1\n"
     ]
    }
   ],
   "source": [
    "with open(\"seqlist.txt\") as F:\n",
    "    L=F.readlines()\n",
    "    N=[e.strip() for e in L]\n",
    "    seqids=\",\".join(N)\n",
    "    print(seqids)"
   ]
  },
  {
   "cell_type": "code",
   "execution_count": 19,
   "id": "071fea72",
   "metadata": {},
   "outputs": [
    {
     "name": "stdout",
     "output_type": "stream",
     "text": [
      "AE003580.2 100\n",
      "NM_164615.2 3\n",
      "NT_033779.5 1\n",
      "AF191665.1 3\n",
      "SRMA01025791.1 23\n"
     ]
    }
   ],
   "source": [
    "from Bio import Entrez \n",
    "from Bio import SeqIO \n",
    "\n",
    "# load all the sequence ids into a comma separated string called seqids\n",
    "with open(\"seqlist.txt\") as F:\n",
    "    L=F.readlines()\n",
    "    N=[e.strip() for e in L]\n",
    "    seqids=\",\".join(N)\n",
    "\n",
    "Entrez.email = \"abc@test.com\" \n",
    "handle = Entrez.efetch(db=\"nucleotide\", rettype=\"gb\", retmode=\"text\", id=seqids)\n",
    "for sr in SeqIO.parse(handle, \"gb\") :\n",
    "    print(sr.id, len(sr.features))\n",
    "handle.close() \n"
   ]
  },
  {
   "cell_type": "code",
   "execution_count": null,
   "id": "bbf4d0c4",
   "metadata": {},
   "outputs": [],
   "source": []
  }
 ],
 "metadata": {
  "kernelspec": {
   "display_name": "Python 3",
   "language": "python",
   "name": "python3"
  },
  "language_info": {
   "codemirror_mode": {
    "name": "ipython",
    "version": 3
   },
   "file_extension": ".py",
   "mimetype": "text/x-python",
   "name": "python",
   "nbconvert_exporter": "python",
   "pygments_lexer": "ipython3",
   "version": "3.9.5"
  }
 },
 "nbformat": 4,
 "nbformat_minor": 5
}
