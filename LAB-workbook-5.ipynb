{
 "cells": [
  {
   "cell_type": "markdown",
   "id": "eae125fd",
   "metadata": {
    "editable": false
   },
   "source": [
    "# Lab Workbook 5"
   ]
  },
  {
   "cell_type": "markdown",
   "id": "0241d8e3",
   "metadata": {
    "editable": false
   },
   "source": [
    "### 1. Write a function called prime(n) which will take a numeric parameter n and check if this number is prime or not. If the number is prime then the function should return True otherwise False. The usage/testing of this function would be as follows:\n",
    "\n",
    "```\n",
    "# Main program\n",
    "x=int(input(\"Enter a number:\"))\n",
    "if prime(x):\n",
    "    print(\"Your number is prime\")\n",
    "else:\n",
    "    print(\"Your number is not prime\")\n",
    "```\n",
    "\n",
    "Notice that since the function is returning a Boolean answer, hence it is possible to use the result of the function as a if condition in a manner that makes the code more readable."
   ]
  },
  {
   "cell_type": "code",
   "execution_count": 7,
   "id": "1c5de012",
   "metadata": {},
   "outputs": [
    {
     "name": "stdout",
     "output_type": "stream",
     "text": [
      "Enter a number:13\n",
      "Your number is prime\n"
     ]
    }
   ],
   "source": [
    "def prime(x):\n",
    "    for i in range(2,x):\n",
    "        if x%i==0:\n",
    "            return False\n",
    "    return True\n",
    "x=int(input(\"Enter a number:\"))\n",
    "if prime(x)==False:\n",
    "    print(\"Your number is not prime\")\n",
    "else:\n",
    "    print(\"Your number is prime\")"
   ]
  },
  {
   "cell_type": "markdown",
   "id": "82298884",
   "metadata": {
    "editable": false
   },
   "source": [
    "### 2. Write a function called getFactors(n), which will take a numeric parameter n and would find all the factors of this number and store them as a List. This List of factors would be returned from the function. The usage/testing of this function would be as follows:\n",
    "\n",
    "```\n",
    "# Main program\n",
    "n=int(input(\"Enter a number\"))\n",
    "L=getFactors(n)\n",
    "print(\"Total Factors\",len(L))\n",
    "print(\"Factors\",L)\n",
    "```"
   ]
  },
  {
   "cell_type": "code",
   "execution_count": 9,
   "id": "a2d96d49",
   "metadata": {},
   "outputs": [
    {
     "name": "stdout",
     "output_type": "stream",
     "text": [
      "Enter a number12\n",
      "Total Factors 6\n",
      "Factors [1, 2, 3, 4, 6, 12]\n"
     ]
    }
   ],
   "source": [
    "def getfactors(n):\n",
    "    L=[]\n",
    "    for i in range(1,n+1):\n",
    "        if n%i==0:\n",
    "            L.append(i)\n",
    "    return L\n",
    "            \n",
    "n=int(input(\"Enter a number\"))\n",
    "L=getfactors(n)\n",
    "print(\"Total Factors\",len(L))\n",
    "print(\"Factors\",L)"
   ]
  },
  {
   "cell_type": "markdown",
   "id": "5080843a",
   "metadata": {
    "editable": false
   },
   "source": [
    "### 3. Using the functions written in the above two questions, write a main program that would input a number and display all the prime factors of that number. "
   ]
  },
  {
   "cell_type": "code",
   "execution_count": 14,
   "id": "c85d627b",
   "metadata": {},
   "outputs": [
    {
     "name": "stdout",
     "output_type": "stream",
     "text": [
      "Enter a number24\n",
      "1\n",
      "2\n",
      "3\n"
     ]
    }
   ],
   "source": [
    "def getfactors(n):\n",
    "    L=[]\n",
    "    for i in range(1,n+1):\n",
    "        if n%i==0:\n",
    "            L.append(i)\n",
    "    return L\n",
    "def prime(x):\n",
    "    for i in range(2,x):\n",
    "        if x%i==0:\n",
    "            return False\n",
    "    return True\n",
    "n=int(input(\"Enter a number\"))\n",
    "L=getfactors(n)\n",
    "for fac in L:\n",
    "    if prime(fac)==True:\n",
    "        print(fac)"
   ]
  },
  {
   "cell_type": "markdown",
   "id": "898084f2",
   "metadata": {
    "editable": false
   },
   "source": [
    "### 4. Write a function called splitEcoRI(dna) which takes a dna string as a parameter. The function would split the dna in the manner the EcoRI splits it, and would return a list of dna fragments. The eCoRI enzyme looks for a pattern GAATTC in the dna and splits it such that the base G stays attached to the first fragment at the end and the pattern AATTC is attached in beginning of the second fragment. This is repeated for all occurrences of GAATTC. The usage of this function would be as follows:\n",
    "\n",
    "```\n",
    "# Main program\n",
    "with open(\"abc.fasta\",\"r\") as F:\n",
    "   F.readline()                   # ignore the line containing ID etc\n",
    "   dna=F.read()                   # read the entire remaining content ( sequence )\n",
    "   L=splitEcoRI(dna)\n",
    "   print(\"Total fragments:\",len(L))\n",
    "   for fragment in L:\n",
    "       print(fragment)\n",
    "```"
   ]
  },
  {
   "cell_type": "code",
   "execution_count": 13,
   "id": "94e0271b",
   "metadata": {},
   "outputs": [
    {
     "name": "stdout",
     "output_type": "stream",
     "text": [
      "Total fragments: 3\n",
      "ACAAG \n",
      "\n",
      "AATTCGCCATTGTCCCCCGGCCTCCTGCTGCTGCTGCTCTCCGGGGCCACGGCCACCGCTGCCCTGCC\n",
      "CCTGGAGGGTGGCCCCACCGGCCGAGACAGCGAGCATATGCAGGAAGCGGCAGGAATAAGGAAAAGCAGC\n",
      "CTCCTGACTTTCCTCGCTTGGTGGTTTGAGTGGACCTCCCAGGCCAGTGCCGGGCCCCTCATAGGAGAGG\n",
      "AAGCTCGGGAGGTGGCCAGGCGGCAGGAAGGCGCACCCCCCCAGCAATCCGCGCGCCGGGACAGAATGCC\n",
      "CTGCAGGAACTTCTTCTGG \n",
      "\n",
      "AATTCGACCTTCTCCTCCTGCAAATAAAACCTCACCCATGAATGCTCACGCAAG\n",
      "TTTAATTACAGACCTGAA \n",
      "\n"
     ]
    }
   ],
   "source": [
    "def splitEcoRI(dna):\n",
    "    pos=0\n",
    "    x=0\n",
    "    L=[]\n",
    "    while True:\n",
    "        pos=dna.find(\"GAATTC\",x)\n",
    "        if pos == -1:\n",
    "            break\n",
    "        L.append(dna[x:pos+1])\n",
    "        x=pos+1\n",
    "    L.append(dna[x:])\n",
    "    return(L)\n",
    "    \n",
    "with open(\"AB000263.fasta\",\"r\") as F:\n",
    "   F.readline()                   # ignore the line containing ID etc\n",
    "   dna=F.read()                   # read the entire remaining content ( sequence )\n",
    "   L=splitEcoRI(dna)\n",
    "   print(\"Total fragments:\",len(L))\n",
    "   for fragment in L:\n",
    "       print(fragment,\"\\n\")"
   ]
  }
 ],
 "metadata": {
  "kernelspec": {
   "display_name": "Python 3 (ipykernel)",
   "language": "python",
   "name": "python3"
  },
  "language_info": {
   "codemirror_mode": {
    "name": "ipython",
    "version": 3
   },
   "file_extension": ".py",
   "mimetype": "text/x-python",
   "name": "python",
   "nbconvert_exporter": "python",
   "pygments_lexer": "ipython3",
   "version": "3.9.4"
  }
 },
 "nbformat": 4,
 "nbformat_minor": 5
}
