{
 "cells": [
  {
   "cell_type": "markdown",
   "id": "bca645c8",
   "metadata": {
    "editable": false
   },
   "source": [
    "# LAB 6 WORKBOOK\n",
    "\n",
    "## REGULAR EXPRESSIONS"
   ]
  },
  {
   "cell_type": "markdown",
   "id": "74f11c5c",
   "metadata": {
    "editable": false
   },
   "source": [
    "### 1. Write a program that inputs a dna string, and detects if it contains a stop codon or not. "
   ]
  },
  {
   "cell_type": "code",
   "execution_count": 3,
   "id": "e6719b84",
   "metadata": {},
   "outputs": [
    {
     "name": "stdout",
     "output_type": "stream",
     "text": [
      "Enter the dna stringATCATCATCATC\n",
      "stop codon not found\n"
     ]
    }
   ],
   "source": [
    "import re\n",
    "dna=input(\"Enter the dna string\")\n",
    "m=re.search(\"(TAG)|(TGA)|(TAA)\",dna)\n",
    "if m:\n",
    "    print(\"stop codon found\")\n",
    "else:\n",
    "    print(\"stop codon not found\")"
   ]
  },
  {
   "cell_type": "markdown",
   "id": "dbdbe31a",
   "metadata": {
    "editable": false
   },
   "source": [
    "### 2. Write a program that inputs a dna string and displays all codons of frame 1, 2 and 3. The identification of codons needs to be done using regular expressions."
   ]
  },
  {
   "cell_type": "code",
   "execution_count": 10,
   "id": "24d0a7a4",
   "metadata": {},
   "outputs": [
    {
     "name": "stdout",
     "output_type": "stream",
     "text": [
      "Enter the dna stringatggcctacctga\n",
      "['atg', 'gcc', 'tac', 'ctg']\n",
      "['tgg', 'cct', 'acc', 'tga']\n",
      "['ggc', 'cta', 'cct']\n"
     ]
    }
   ],
   "source": [
    "import re\n",
    "dna=input(\"Enter the dna string\")\n",
    "for i in range(3):\n",
    "    L=re.findall(\"...\",dna[i:])\n",
    "    print(L)"
   ]
  },
  {
   "cell_type": "markdown",
   "id": "8c4ec513",
   "metadata": {
    "editable": false
   },
   "source": [
    "### 3. In the program written in question 2 above, add more functionality to be able to detect if any of the frame contains a coding sequence. For a frame to contain a coding sequence, it should have a start codon followed by a stop codon. "
   ]
  },
  {
   "cell_type": "code",
   "execution_count": 15,
   "id": "559a8e4a",
   "metadata": {},
   "outputs": [
    {
     "name": "stdout",
     "output_type": "stream",
     "text": [
      "Enter the dna stringCTGTGTTCA\n",
      "No coding sequence in any frame\n"
     ]
    }
   ],
   "source": [
    "import re\n",
    "dna=input(\"Enter the dna string\")\n",
    "c=0\n",
    "for i in range(3):\n",
    "    if re.match(\"(...)*?(ATG)(...)+?(TAG|TGA|TAA)\",dna[i:]):\n",
    "        c=c+1\n",
    "        print(\"coding sequence found in frame \",i)\n",
    "if c==0:\n",
    "    print(\"No coding sequence in any frame\")"
   ]
  },
  {
   "cell_type": "markdown",
   "id": "9d79889b",
   "metadata": {
    "editable": false
   },
   "source": [
    "### 4. Read a sequence from a fasta file and gets the first 15 bases that follow a TATA pattern. This needs to be done for all occurrences of TATA. "
   ]
  },
  {
   "cell_type": "code",
   "execution_count": 1,
   "id": "4d41dcd5",
   "metadata": {},
   "outputs": [
    {
     "name": "stdout",
     "output_type": "stream",
     "text": [
      "['CTAACCCCAGGGTTG', 'TACCGCCATCTTCAG', 'CTTCAAAGGACATTT', 'TAGAGGAGACAAGTC', 'GGCGATAGAAATTGA', 'GTACCGCAAGGGAAA', 'ACCAAGCATAATATA', 'CCTTCTGCATAATGA', 'GGTAGAGGCGACAAA', 'ACTGAACTCCTCACA', 'GAAGAACTAATGTTA', 'AGTAACATGAAAACA', 'CTCAATTGATCCAAT', 'CCCACACCCACCCAA', 'TACAACTACGCAAAG', 'ATAAACACCCTCACC', 'TGATATGTCTCCATA', 'CCCTTCCCGTACTAA', 'CTCTCCGGACAATGA', 'GCAATAAAACTAGGA', 'CCAAATCTCTCCCTC', 'TTATCCTAACTACTA', 'CTAATAATCTTATAG', 'CCTATTATTCGGCGC', 'GTGGAGGCCGGAGCA', 'AAACCCCCTGCCATA', 'CTACTAACAGACCGC', 'CCAACACCTATTCTG', 'TTCTTATCCTACCAG', 'TTTACAGTAGGAATA', 'TGGATGCCCCCCACC', 'CATAAAATCTAGACA', 'GGCTAAATCCTATAT', 'ATAATTACATCACAA', 'CTACGGTCAATGCTC', 'GCACCCCCTCTACCC', 'ACAAACCCTGAGAAC', 'CTAGTATCCTTAATC', 'AACCTAGCCATGGCC', 'GGCTTTCGCTCTAAG', 'GTAAAACCCAGCCCA', 'CCAATGATGGCGCGA', 'AATAGTACCGTTAAC', 'TCCCCCGCCCGCGTC', 'TAGTTTAAACAAAAC', 'CTAGCATTTACCATC', 'TCGCTCACACCTCAT', 'GCTACTCTCATAACC', 'TTACTACCACTGACA', 'CTAATCTCCCTACAA', 'ACATTCACAGCCACA', 'TCTTCTTCGAAACCA', 'GTAAAGATACCTCTT', 'ATACGCCTCACACTC', 'ACAAGCTCCATCTGC', 'CTCCCTCTACATATT', 'GTTTAACCAAAACAT', 'ACCACCCTAACCCTG', 'TAAACTCAGACCCAA', 'TCCTTCTTGCTCATC', 'CAACCGTATCGGCGA', 'GTTGTAGCAGGAATC', 'GCACTCGAATAATTC', 'TACACCAACAAACAA', 'TCCAAAGACAACCAT', 'ACCTCCCCCAAAATT', 'TTACGGATCATTTCT', 'GCAACAGCCTTCATA', 'CCCTAGCCAACCCCT', 'TCCAAACAACAAAGC', 'CTTCACAACAATCCT', 'AACTAATACACCAGT']\n"
     ]
    }
   ],
   "source": [
    "from Bio import SeqIO\n",
    "import re\n",
    "sr=SeqIO.read(\"sequence.fasta\",\"fasta\")\n",
    "s=sr.seq\n",
    "L=re.findall(\"TATA(.{15}?)\",str(s))\n",
    "print(L)"
   ]
  },
  {
   "cell_type": "markdown",
   "id": "379c692b",
   "metadata": {
    "editable": false
   },
   "source": [
    "### 5. In the program written in question 4, modify the code such that a data structure gets populated. The data structure should be as follows:\n",
    "\n",
    "```\n",
    "[ {'pos':12, 'segment':'TATAGGGCCGTGTAGTGAA'},\n",
    "  {'pos':50, 'segment':'TATACCCCCCGTGTAAAAA'},\n",
    "  {'pos':72, 'segment':'TATATTCCTTAATTTTGAA'}\n",
    "  ]\n",
    "```\n",
    "This is a list of occurrences of TATA. So TATA was located at position 12, and then we have the segment as TATA followed by the 15 bases. The next occurrence of TATA is at position 50, and then we have the segment similarly. This will be repeated for all occurrences of TATA in the sequence. \n",
    "\n",
    "The list would have as many elements as the number of occurrences of TATA\n",
    "\n",
    "Display the data structure to verify the correct data using a sequence with known positions of TATA, which you could verify through your program itself in beginning. "
   ]
  },
  {
   "cell_type": "code",
   "execution_count": 28,
   "id": "d45dc9b4",
   "metadata": {},
   "outputs": [
    {
     "ename": "AttributeError",
     "evalue": "'NoneType' object has no attribute 'start'",
     "output_type": "error",
     "traceback": [
      "\u001b[1;31m---------------------------------------------------------------------------\u001b[0m",
      "\u001b[1;31mAttributeError\u001b[0m                            Traceback (most recent call last)",
      "\u001b[1;32m~\\AppData\\Local\\Temp/ipykernel_10728/2538164861.py\u001b[0m in \u001b[0;36m<module>\u001b[1;34m\u001b[0m\n\u001b[0;32m     10\u001b[0m     \u001b[0mst\u001b[0m\u001b[1;33m=\u001b[0m\u001b[0mstr\u001b[0m\u001b[1;33m(\u001b[0m\u001b[0ms\u001b[0m\u001b[1;33m)\u001b[0m\u001b[1;33m\u001b[0m\u001b[1;33m\u001b[0m\u001b[0m\n\u001b[0;32m     11\u001b[0m     \u001b[0mm\u001b[0m\u001b[1;33m=\u001b[0m\u001b[0mp\u001b[0m\u001b[1;33m.\u001b[0m\u001b[0msearch\u001b[0m\u001b[1;33m(\u001b[0m\u001b[0mst\u001b[0m\u001b[1;33m[\u001b[0m\u001b[0mi\u001b[0m\u001b[1;33m:\u001b[0m\u001b[1;33m]\u001b[0m\u001b[1;33m)\u001b[0m\u001b[1;33m\u001b[0m\u001b[1;33m\u001b[0m\u001b[0m\n\u001b[1;32m---> 12\u001b[1;33m     \u001b[0mD\u001b[0m\u001b[1;33m=\u001b[0m\u001b[1;33m{\u001b[0m\u001b[1;34m\"pos\"\u001b[0m\u001b[1;33m:\u001b[0m \u001b[0mm\u001b[0m\u001b[1;33m.\u001b[0m\u001b[0mstart\u001b[0m\u001b[1;33m(\u001b[0m\u001b[1;33m)\u001b[0m\u001b[1;33m,\u001b[0m \u001b[1;34m\"segment\"\u001b[0m\u001b[1;33m:\u001b[0m \u001b[0mm\u001b[0m\u001b[1;33m.\u001b[0m\u001b[0mgroup\u001b[0m\u001b[1;33m(\u001b[0m\u001b[1;33m)\u001b[0m\u001b[1;33m}\u001b[0m\u001b[1;33m\u001b[0m\u001b[1;33m\u001b[0m\u001b[0m\n\u001b[0m\u001b[0;32m     13\u001b[0m     \u001b[0mi\u001b[0m\u001b[1;33m=\u001b[0m\u001b[0mm\u001b[0m\u001b[1;33m.\u001b[0m\u001b[0mend\u001b[0m\u001b[1;33m(\u001b[0m\u001b[1;33m)\u001b[0m\u001b[1;33m+\u001b[0m\u001b[1;36m1\u001b[0m\u001b[1;33m\u001b[0m\u001b[1;33m\u001b[0m\u001b[0m\n\u001b[0;32m     14\u001b[0m     \u001b[0mL\u001b[0m\u001b[1;33m.\u001b[0m\u001b[0mappend\u001b[0m\u001b[1;33m(\u001b[0m\u001b[0mD\u001b[0m\u001b[1;33m)\u001b[0m\u001b[1;33m\u001b[0m\u001b[1;33m\u001b[0m\u001b[0m\n",
      "\u001b[1;31mAttributeError\u001b[0m: 'NoneType' object has no attribute 'start'"
     ]
    }
   ],
   "source": [
    "from Bio import SeqIO\n",
    "import re\n",
    "sr=SeqIO.read(\"sequence.fasta\",\"fasta\")\n",
    "s=sr.seq\n",
    "p=re.compile(\"TATA(.{15}?)\")\n",
    "D={}\n",
    "L=[]\n",
    "l=len(s)\n",
    "for i in range(l):\n",
    "    st=str(s)\n",
    "    m=p.search(st[i:])\n",
    "    D={\"pos\": m.start(), \"segment\": m.group()}\n",
    "    i=m.end()+1\n",
    "    L.append(D)\n",
    "print(L)"
   ]
  },
  {
   "cell_type": "markdown",
   "id": "f3a0d6b1",
   "metadata": {
    "editable": false
   },
   "source": [
    "### 6. Input a motif and a sequence string. We have to search for the motif in the sequence string using regular expressions technique and display all the locations where this motif has been located."
   ]
  },
  {
   "cell_type": "code",
   "execution_count": 6,
   "id": "818441bd",
   "metadata": {},
   "outputs": [
    {
     "name": "stdout",
     "output_type": "stream",
     "text": [
      "enter the sequence atggcctgaatg\n",
      "enter the motif atg\n",
      "0\n",
      "8\n",
      "7\n",
      "6\n",
      "5\n",
      "4\n",
      "3\n",
      "2\n",
      "1\n",
      "0\n"
     ]
    },
    {
     "ename": "AttributeError",
     "evalue": "'NoneType' object has no attribute 'start'",
     "output_type": "error",
     "traceback": [
      "\u001b[1;31m---------------------------------------------------------------------------\u001b[0m",
      "\u001b[1;31mAttributeError\u001b[0m                            Traceback (most recent call last)",
      "\u001b[1;32m~\\AppData\\Local\\Temp/ipykernel_6020/794082072.py\u001b[0m in \u001b[0;36m<module>\u001b[1;34m\u001b[0m\n\u001b[0;32m      5\u001b[0m \u001b[1;32mfor\u001b[0m \u001b[0mi\u001b[0m \u001b[1;32min\u001b[0m \u001b[0mrange\u001b[0m\u001b[1;33m(\u001b[0m\u001b[0ml\u001b[0m\u001b[1;33m)\u001b[0m\u001b[1;33m:\u001b[0m\u001b[1;33m\u001b[0m\u001b[1;33m\u001b[0m\u001b[0m\n\u001b[0;32m      6\u001b[0m     \u001b[0mm\u001b[0m\u001b[1;33m=\u001b[0m\u001b[0mre\u001b[0m\u001b[1;33m.\u001b[0m\u001b[0msearch\u001b[0m\u001b[1;33m(\u001b[0m\u001b[0mmotif\u001b[0m\u001b[1;33m,\u001b[0m\u001b[0mseq\u001b[0m\u001b[1;33m[\u001b[0m\u001b[0mi\u001b[0m\u001b[1;33m:\u001b[0m\u001b[1;33m]\u001b[0m\u001b[1;33m)\u001b[0m\u001b[1;33m\u001b[0m\u001b[1;33m\u001b[0m\u001b[0m\n\u001b[1;32m----> 7\u001b[1;33m     \u001b[0mloc\u001b[0m\u001b[1;33m=\u001b[0m\u001b[0mm\u001b[0m\u001b[1;33m.\u001b[0m\u001b[0mstart\u001b[0m\u001b[1;33m(\u001b[0m\u001b[1;33m)\u001b[0m\u001b[1;33m\u001b[0m\u001b[1;33m\u001b[0m\u001b[0m\n\u001b[0m\u001b[0;32m      8\u001b[0m     \u001b[0mprint\u001b[0m\u001b[1;33m(\u001b[0m\u001b[0mloc\u001b[0m\u001b[1;33m)\u001b[0m\u001b[1;33m\u001b[0m\u001b[1;33m\u001b[0m\u001b[0m\n\u001b[0;32m      9\u001b[0m     \u001b[0mi\u001b[0m\u001b[1;33m=\u001b[0m\u001b[0mm\u001b[0m\u001b[1;33m.\u001b[0m\u001b[0mend\u001b[0m\u001b[1;33m(\u001b[0m\u001b[1;33m)\u001b[0m\u001b[1;33m+\u001b[0m\u001b[1;36m1\u001b[0m\u001b[1;33m\u001b[0m\u001b[1;33m\u001b[0m\u001b[0m\n",
      "\u001b[1;31mAttributeError\u001b[0m: 'NoneType' object has no attribute 'start'"
     ]
    }
   ],
   "source": [
    "import re\n",
    "seq=input(\"enter the sequence \")\n",
    "motif=input(\"enter the motif \")\n",
    "l=len(seq)\n",
    "for i in range(l):\n",
    "    m=re.search(motif,seq[i:])\n",
    "    loc=m.start()\n",
    "    print(loc)\n",
    "    i=m.end()+1"
   ]
  },
  {
   "cell_type": "markdown",
   "id": "62047b78",
   "metadata": {
    "editable": false
   },
   "source": [
    "### 7. Read a sequence from a FASTA file. We have to look for AvaII recognition sites, and build a list of all positions where it is found. Write a function called getAvaII(seq) which will take a sequence string as a parameter and return a list of positions where AvaaII has been located. AvaII recognition site is GGACC or GGTCC."
   ]
  },
  {
   "cell_type": "code",
   "execution_count": 8,
   "id": "81c91378",
   "metadata": {},
   "outputs": [
    {
     "ename": "AttributeError",
     "evalue": "'NoneType' object has no attribute 'start'",
     "output_type": "error",
     "traceback": [
      "\u001b[1;31m---------------------------------------------------------------------------\u001b[0m",
      "\u001b[1;31mAttributeError\u001b[0m                            Traceback (most recent call last)",
      "\u001b[1;32m~\\AppData\\Local\\Temp/ipykernel_6020/1950284913.py\u001b[0m in \u001b[0;36m<module>\u001b[1;34m\u001b[0m\n\u001b[0;32m     13\u001b[0m \u001b[0mrs\u001b[0m\u001b[1;33m=\u001b[0m\u001b[0mSeqIO\u001b[0m\u001b[1;33m.\u001b[0m\u001b[0mread\u001b[0m\u001b[1;33m(\u001b[0m\u001b[1;34m\"sequence.fasta\"\u001b[0m\u001b[1;33m,\u001b[0m\u001b[1;34m\"fasta\"\u001b[0m\u001b[1;33m)\u001b[0m\u001b[1;33m\u001b[0m\u001b[1;33m\u001b[0m\u001b[0m\n\u001b[0;32m     14\u001b[0m \u001b[0ms\u001b[0m\u001b[1;33m=\u001b[0m\u001b[0mrs\u001b[0m\u001b[1;33m.\u001b[0m\u001b[0mseq\u001b[0m\u001b[1;33m\u001b[0m\u001b[1;33m\u001b[0m\u001b[0m\n\u001b[1;32m---> 15\u001b[1;33m \u001b[0mprint\u001b[0m\u001b[1;33m(\u001b[0m\u001b[0mgetAvaII\u001b[0m\u001b[1;33m(\u001b[0m\u001b[0ms\u001b[0m\u001b[1;33m)\u001b[0m\u001b[1;33m)\u001b[0m\u001b[1;33m\u001b[0m\u001b[1;33m\u001b[0m\u001b[0m\n\u001b[0m",
      "\u001b[1;32m~\\AppData\\Local\\Temp/ipykernel_6020/1950284913.py\u001b[0m in \u001b[0;36mgetAvaII\u001b[1;34m(s)\u001b[0m\n\u001b[0;32m      8\u001b[0m         \u001b[0mst\u001b[0m\u001b[1;33m=\u001b[0m\u001b[0mstr\u001b[0m\u001b[1;33m(\u001b[0m\u001b[0ms\u001b[0m\u001b[1;33m)\u001b[0m\u001b[1;33m\u001b[0m\u001b[1;33m\u001b[0m\u001b[0m\n\u001b[0;32m      9\u001b[0m         \u001b[0mm\u001b[0m\u001b[1;33m=\u001b[0m\u001b[0mp\u001b[0m\u001b[1;33m.\u001b[0m\u001b[0msearch\u001b[0m\u001b[1;33m(\u001b[0m\u001b[0mst\u001b[0m\u001b[1;33m[\u001b[0m\u001b[0mi\u001b[0m\u001b[1;33m:\u001b[0m\u001b[1;33m]\u001b[0m\u001b[1;33m)\u001b[0m\u001b[1;33m\u001b[0m\u001b[1;33m\u001b[0m\u001b[0m\n\u001b[1;32m---> 10\u001b[1;33m         \u001b[0mL\u001b[0m\u001b[1;33m.\u001b[0m\u001b[0mappend\u001b[0m\u001b[1;33m(\u001b[0m\u001b[0mm\u001b[0m\u001b[1;33m.\u001b[0m\u001b[0mstart\u001b[0m\u001b[1;33m(\u001b[0m\u001b[1;33m)\u001b[0m\u001b[1;33m)\u001b[0m\u001b[1;33m\u001b[0m\u001b[1;33m\u001b[0m\u001b[0m\n\u001b[0m\u001b[0;32m     11\u001b[0m         \u001b[0mi\u001b[0m\u001b[1;33m=\u001b[0m\u001b[0mm\u001b[0m\u001b[1;33m.\u001b[0m\u001b[0mend\u001b[0m\u001b[1;33m(\u001b[0m\u001b[1;33m)\u001b[0m\u001b[1;33m+\u001b[0m\u001b[1;36m1\u001b[0m\u001b[1;33m\u001b[0m\u001b[1;33m\u001b[0m\u001b[0m\n\u001b[0;32m     12\u001b[0m     \u001b[1;32mreturn\u001b[0m \u001b[0mL\u001b[0m\u001b[1;33m\u001b[0m\u001b[1;33m\u001b[0m\u001b[0m\n",
      "\u001b[1;31mAttributeError\u001b[0m: 'NoneType' object has no attribute 'start'"
     ]
    }
   ],
   "source": [
    "import re\n",
    "from Bio import SeqIO\n",
    "def getAvaII(s):\n",
    "    p=re.compile(\"GGACC|GGTCC\")\n",
    "    L=[]\n",
    "    l=len(s)\n",
    "    for i in range(l):\n",
    "        st=str(s)\n",
    "        m=p.search(st[i:])\n",
    "        L.append(m.start())\n",
    "        i=m.end()+1\n",
    "    return L\n",
    "rs=SeqIO.read(\"sequence.fasta\",\"fasta\")\n",
    "s=rs.seq\n",
    "print(getAvaII(s))"
   ]
  },
  {
   "cell_type": "code",
   "execution_count": null,
   "id": "8128ead0",
   "metadata": {},
   "outputs": [],
   "source": []
  }
 ],
 "metadata": {
  "kernelspec": {
   "display_name": "Python 3 (ipykernel)",
   "language": "python",
   "name": "python3"
  },
  "language_info": {
   "codemirror_mode": {
    "name": "ipython",
    "version": 3
   },
   "file_extension": ".py",
   "mimetype": "text/x-python",
   "name": "python",
   "nbconvert_exporter": "python",
   "pygments_lexer": "ipython3",
   "version": "3.9.4"
  }
 },
 "nbformat": 4,
 "nbformat_minor": 5
}
