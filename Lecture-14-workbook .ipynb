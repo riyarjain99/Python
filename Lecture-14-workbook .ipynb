{
 "cells": [
  {
   "cell_type": "markdown",
   "id": "03b08fa1",
   "metadata": {},
   "source": [
    "# Problem Solving with Regular Expressions"
   ]
  },
  {
   "cell_type": "markdown",
   "id": "ebe47377",
   "metadata": {},
   "source": [
    "### 1. Extracting components from a FASTA file using regular expressions\n",
    "```\n",
    "hsbgpg1.fasta\n",
    "\n",
    ">HSBGPG Human gene for bone gla protein (BGP)\n",
    "GGCAGATTCCCCCTAGACCCGCCCGCACCATGGTCAGGCATGCCCCTCCTCATCGCTGGGCACAGCCCAGAGGGT\n",
    "ATAAACAGTGCTGGAGGCTGGCGGGGCAGGCCAGCTGAGTCCTGAGCAGCAGCCCAGCGCAGCCACCGAGACACC\n",
    "ATGAGAGCCCTCACACTCCTCGCCCTATTGGCCCTGGCCGCACTTTGCATCGCTGGCCAGGCAGGTGAGTGCCCC\n",
    "CACCTCCCCTCAGGCCGCATTGCAGTGGGGGCTGAGAGGAGGAAGCACCATGGCCCACCTCTTCTCACCCCTTTG\n",
    "GCTGGCAGTCCCTTTGCAGTCTAACCACCTTGTTGCAGGCTCAATCCATTTGCCCCAGCTCTGCCCTTGCAGAGG\n",
    "GAGAGGAGGGAAGAGCAAGCTGCCCGAGACGCAGGGGAAGGAGGATGAGGGCCCTGGGGATGAGCTGGGGTGAAC\n",
    "CAGGCTCCCTTTCCTTTGCAGGTGCGAAGCCCAGCGGTGCAGAGTCCAGCAAAGGTGCAGGTATGAGGATGGACC\n",
    "TGATGGGTTCCTGGACCCTCCCCTCTCACCCTGGTCCCTCAGTCTCATTCCCCCACTCCTGCCACCTCCTGTCTG\n",
    "GCCATCAGGAAGGCCAGCCTGCTCCCCACCTGATCCTCCCAAACCCAGAGCCACCTGATGCCTGCCCCTCTGCTC\n",
    "CACAGCCTTTGTGTCCAAGCAGGAGGGCAGCGAGGTAGTGAAGAGACCCAGGCGCTACCTGTATCAATGGCTGGG\n",
    "GTGAGAGAAAAGGCAGAGCTGGGCCAAGGCCCTGCCTCTCCGGGATGGTCTGTGGGGGAGCTGCAGCAGGGAGTG\n",
    "GCCTCTCTGGGTTGTGGTGGGGGTACAGGCAGCCTGCCCTGGTGGGCACCCTGGAGCCCCATGTGTAGGGAGAGG\n",
    "AGGGATGGGCATTTTGCACGGGGGCTGATGCCACCACGTCGGGTGTCTCAGAGCCCCAGTCCCCTACCCGGATCC\n",
    "CCTGGAGCCCAGGAGGGAGGTGTGTGAGCTCAATCCGGACTGTGACGAGTTGGCTGACCACATCGGCTTTCAGGA\n",
    "GGCCTATCGGCGCTTCTACGGCCCGGTCTAGGGTGTCGCTCTGCTGGCCTGGCCGGCAACCCCAGTTCTGCTCCT\n",
    "CTCCAGGCACCCTTCTTTCCTCTTCCCCTTGCCCTTGCCCTGACCTCCCAGCCCTATGGATGTGGGGTCCCCATC\n",
    "ATCCCAGCTGCTCCCAAATAAACTCCAGAAG\n",
    "```\n",
    "\n",
    "The multiline aspect of the sequence has to be further worked upon"
   ]
  },
  {
   "cell_type": "code",
   "execution_count": 10,
   "id": "4d5b9c9c",
   "metadata": {},
   "outputs": [
    {
     "name": "stdout",
     "output_type": "stream",
     "text": [
      "HSBGPG\n",
      "Human gene for bone gla protein (BGP)\n",
      "GGCAGATTCCCCCTAGACCCGCCCGCACCATGGTCAGGCATGCCCCTCCTCATCGCTGGGCACAGCCCAGAGGGT\n"
     ]
    }
   ],
   "source": [
    "import re\n",
    "\n",
    "with open(\"hsbgpg1.fasta\") as F:\n",
    "    s=F.read()\n",
    "    w=re.search(\">(.+?)(\\s.*?)\\n(.*)\",s)\n",
    "    if w:\n",
    "        seqid=w.group(1).strip()\n",
    "        seqdesc=w.group(2).strip()\n",
    "        seq=w.group(3).strip()\n",
    "        print(seqid)\n",
    "        print(seqdesc)\n",
    "        print(seq)"
   ]
  },
  {
   "cell_type": "markdown",
   "id": "269fed43",
   "metadata": {},
   "source": [
    "### 2. We want to split a dna string based on EcoRI sites G/AATTC\n",
    "\n",
    "Explore how to take care of the second part correctly\n"
   ]
  },
  {
   "cell_type": "code",
   "execution_count": 12,
   "id": "da0f7acc",
   "metadata": {},
   "outputs": [
    {
     "name": "stdout",
     "output_type": "stream",
     "text": [
      "AAACCCCG\n",
      "GGCTGTG\n",
      "CCCCCCCG\n"
     ]
    }
   ],
   "source": [
    "import re\n",
    "dna=\"AAACCCCGAATTCGGCTGTGAATTCCCCCCCCGAATTCTTGTATA\"\n",
    "p=re.compile(\"(.*?G)(AATTC.*?)\")\n",
    "L=p.findall(dna)\n",
    "for x in L:\n",
    "    print(x[0])"
   ]
  },
  {
   "cell_type": "markdown",
   "id": "5f8d17a2",
   "metadata": {},
   "source": [
    "### 3. Display the CDS with highest GC value\n",
    "ATG......(TGA|TAA|TAG)"
   ]
  },
  {
   "cell_type": "code",
   "execution_count": 24,
   "id": "7d37301f",
   "metadata": {},
   "outputs": [
    {
     "name": "stdout",
     "output_type": "stream",
     "text": [
      "ATGGGGGG\n"
     ]
    }
   ],
   "source": [
    "import re\n",
    "def getGC(seq):\n",
    "    return (seq.count(\"G\")+seq.count(\"C\"))/len(seq)*100\n",
    "\n",
    "def sortongc(d):\n",
    "    return d['gc']\n",
    "\n",
    "dna=\"AAATGGCGCGCGCGTAAGTGACCATGGGGGGTGAGAAAATGGGGGG\"\n",
    "L=re.findall(\"(ATG.+?)(TGA)|(TAA)|(TAG)\",dna)\n",
    "FL=[]\n",
    "for x in L:\n",
    "    d={}\n",
    "    d[\"seq\"]=x[0]\n",
    "    d[\"gc\"]=getGC(x[0])\n",
    "    FL.append(d)\n",
    "\n",
    "FL.sort(reverse=True,key=sortongc)\n",
    "\n",
    "print(FL[0][\"seq\"])"
   ]
  },
  {
   "cell_type": "markdown",
   "id": "2056d1e9",
   "metadata": {},
   "source": [
    "### 4. Delete all occurrences of a motif from a dna\n"
   ]
  },
  {
   "cell_type": "code",
   "execution_count": 26,
   "id": "127653da",
   "metadata": {},
   "outputs": [
    {
     "name": "stdout",
     "output_type": "stream",
     "text": [
      "AAGCGCGCGTAAGTGACCATGGGGGGTGAGAAAATGGGGGG\n"
     ]
    }
   ],
   "source": [
    "import re\n",
    "dna=\"AAATGGCGCGCGCGTAAGTGACCATGGGGGGTGAGAAAATGGGGGG\"\n",
    "motif=\"ATG\"\n",
    "s=re.sub(\"ATG.C\",\"\",dna)\n",
    "print(s)"
   ]
  },
  {
   "cell_type": "code",
   "execution_count": null,
   "id": "23f4ebe9",
   "metadata": {},
   "outputs": [],
   "source": []
  }
 ],
 "metadata": {
  "kernelspec": {
   "display_name": "Python 3",
   "language": "python",
   "name": "python3"
  },
  "language_info": {
   "codemirror_mode": {
    "name": "ipython",
    "version": 3
   },
   "file_extension": ".py",
   "mimetype": "text/x-python",
   "name": "python",
   "nbconvert_exporter": "python",
   "pygments_lexer": "ipython3",
   "version": "3.9.5"
  }
 },
 "nbformat": 4,
 "nbformat_minor": 5
}
