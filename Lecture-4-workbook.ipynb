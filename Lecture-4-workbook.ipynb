{
 "cells": [
  {
   "cell_type": "markdown",
   "id": "2d693e54",
   "metadata": {},
   "source": [
    "## LECTURE 04 WORKBOOK"
   ]
  },
  {
   "cell_type": "markdown",
   "id": "813d5839",
   "metadata": {},
   "source": [
    "### From a dictionary that is containing data about student names and marks, compute the class average marks"
   ]
  },
  {
   "cell_type": "code",
   "execution_count": 1,
   "id": "f8656a24",
   "metadata": {},
   "outputs": [
    {
     "name": "stdout",
     "output_type": "stream",
     "text": [
      "78.6\n"
     ]
    }
   ],
   "source": [
    "D={'Avinash':81, 'Deepti':75, 'Anirudh':62, 'Ritu':90, 'Brajesh':85}\n",
    "print(sum(D.values())/len(D.values()))"
   ]
  },
  {
   "cell_type": "markdown",
   "id": "96d0ab87",
   "metadata": {},
   "source": [
    "### Build a dictionary that contains the DNA codon as the key, and its corresponding amino acid character as the value. We need to build this with optimal effort by using an internet resource.\n",
    "\n",
    "The internet resource is at : https://github.com/zhanxw/anno/blob/master/codon.txt\n",
    "\n",
    "Hint: Study the zip() function from https://www.w3schools.com/python/ref_func_zip.asp\n",
    "\n",
    "Hint: Consider using dict() function to convert list of key,value tuples into a dictionary"
   ]
  },
  {
   "cell_type": "code",
   "execution_count": 3,
   "id": "69c10b6e",
   "metadata": {},
   "outputs": [
    {
     "name": "stdout",
     "output_type": "stream",
     "text": [
      "{'AAA': 'K', 'AAC': 'N', 'AAG': 'K', 'AAT': 'N', 'ACA': 'T', 'ACC': 'T', 'ACG': 'T', 'ACT': 'T', 'AGA': 'R', 'AGC': 'S', 'AGG': 'R', 'AGT': 'S', 'ATA': 'I', 'ATC': 'I', 'ATG': 'M', 'ATT': 'I', 'CAA': 'Q', 'CAC': 'H', 'CAG': 'Q', 'CAT': 'H', 'CCA': 'P', 'CCC': 'P', 'CCG': 'P', 'CCT': 'P', 'CGA': 'R', 'CGC': 'R', 'CGG': 'R', 'CGT': 'R', 'CTA': 'L', 'CTC': 'L', 'CTG': 'L', 'CTT': 'L', 'GAA': 'E', 'GAC': 'D', 'GAG': 'E', 'GAT': 'D', 'GCA': 'A', 'GCC': 'A', 'GCG': 'A', 'GCT': 'A', 'GGA': 'G', 'GGC': 'G', 'GGG': 'G', 'GGT': 'G', 'GTA': 'V', 'GTC': 'V', 'GTG': 'V', 'GTT': 'V', 'TAA': 'O', 'TAC': 'Y', 'TAG': 'O', 'TAT': 'Y', 'TCA': 'S', 'TCC': 'S', 'TCG': 'S', 'TCT': 'S', 'TGA': 'O', 'TGC': 'C', 'TGG': 'W', 'TGT': 'C', 'TTA': 'L', 'TTC': 'F', 'TTG': 'L', 'TTT': 'F'}\n"
     ]
    }
   ],
   "source": [
    "s=\"\"\"AAA\tLys\tK\tLysine\n",
    "AAC\tAsn\tN\tAsparagine\n",
    "AAG\tLys\tK\tLysine\n",
    "AAT\tAsn\tN\tAsparagine\n",
    "ACA\tThr\tT\tThreonine\n",
    "ACC\tThr\tT\tThreonine\n",
    "ACG\tThr\tT\tThreonine\n",
    "ACT\tThr\tT\tThreonine\n",
    "AGA\tArg\tR\tArginine\n",
    "AGC\tSer\tS\tSerine\n",
    "AGG\tArg\tR\tArginine\n",
    "AGT\tSer\tS\tSerine\n",
    "ATA\tIle\tI\tIsoleucine\n",
    "ATC\tIle\tI\tIsoleucine\n",
    "ATG\tMet\tM\tMethionine\n",
    "ATT\tIle\tI\tIsoleucine\n",
    "CAA\tGln\tQ\tGlutamine\n",
    "CAC\tHis\tH\tHistidine\n",
    "CAG\tGln\tQ\tGlutamine\n",
    "CAT\tHis\tH\tHistidine\n",
    "CCA\tPro\tP\tProline\n",
    "CCC\tPro\tP\tProline\n",
    "CCG\tPro\tP\tProline\n",
    "CCT\tPro\tP\tProline\n",
    "CGA\tArg\tR\tArginine\n",
    "CGC\tArg\tR\tArginine\n",
    "CGG\tArg\tR\tArginine\n",
    "CGT\tArg\tR\tArginine\n",
    "CTA\tLeu\tL\tLeucine\n",
    "CTC\tLeu\tL\tLeucine\n",
    "CTG\tLeu\tL\tLeucine\n",
    "CTT\tLeu\tL\tLeucine\n",
    "GAA\tGlu\tE\tGlutamic_acid\n",
    "GAC\tAsp\tD\tAspartic_acid\n",
    "GAG\tGlu\tE\tGlutamic_acid\n",
    "GAT\tAsp\tD\tAspartic_acid\n",
    "GCA\tAla\tA\tAlanine\t\n",
    "GCC\tAla\tA\tAlanine\t\n",
    "GCG\tAla\tA\tAlanine\t\n",
    "GCT\tAla\tA\tAlanine\t\n",
    "GGA\tGly\tG\tGlycine\n",
    "GGC\tGly\tG\tGlycine\n",
    "GGG\tGly\tG\tGlycine\n",
    "GGT\tGly\tG\tGlycine\n",
    "GTA\tVal\tV\tValine\n",
    "GTC\tVal\tV\tValine\n",
    "GTG\tVal\tV\tValine\n",
    "GTT\tVal\tV\tValine\n",
    "TAA\tStp\tO\tStop\n",
    "TAC\tTyr\tY\tTyrosine\n",
    "TAG\tStp\tO\tStop\n",
    "TAT\tTyr\tY\tTyrosine\n",
    "TCA\tSer\tS\tSerine\n",
    "TCC\tSer\tS\tSerine\n",
    "TCG\tSer\tS\tSerine\n",
    "TCT\tSer\tS\tSerine\n",
    "TGA\tStp\tO\tStop\n",
    "TGC\tCys\tC\tCysteine\n",
    "TGG\tTrp\tW\tTryptophan\n",
    "TGT\tCys\tC\tCysteine\n",
    "TTA\tLeu\tL\tLeucine\n",
    "TTC\tPhe\tF\tPhenylalanine\n",
    "TTG\tLeu\tL\tLeucine\n",
    "TTT\tPhe\tF\tPhenylalanine\"\"\"\n",
    "\n",
    "L=s.split()\n",
    "codon=L[::4]\n",
    "amino=L[2::4]\n",
    "D=dict(zip(codon,amino))\n",
    "print(D)\n"
   ]
  },
  {
   "cell_type": "code",
   "execution_count": null,
   "id": "a1c60393",
   "metadata": {},
   "outputs": [],
   "source": []
  }
 ],
 "metadata": {
  "kernelspec": {
   "display_name": "Python 3 (ipykernel)",
   "language": "python",
   "name": "python3"
  },
  "language_info": {
   "codemirror_mode": {
    "name": "ipython",
    "version": 3
   },
   "file_extension": ".py",
   "mimetype": "text/x-python",
   "name": "python",
   "nbconvert_exporter": "python",
   "pygments_lexer": "ipython3",
   "version": "3.9.4"
  }
 },
 "nbformat": 4,
 "nbformat_minor": 5
}
