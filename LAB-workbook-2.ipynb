{
 "cells": [
  {
   "cell_type": "markdown",
   "id": "ad5357cc",
   "metadata": {
    "editable": false
   },
   "source": [
    "# LAB WORKBOOK 2 "
   ]
  },
  {
   "cell_type": "markdown",
   "id": "0760dda9",
   "metadata": {
    "editable": false
   },
   "source": [
    "### 1. From a dictionary that is containing data about student names and marks, display all the names who have got more than 80 marks"
   ]
  },
  {
   "cell_type": "code",
   "execution_count": 1,
   "id": "f2b55ac9",
   "metadata": {},
   "outputs": [
    {
     "name": "stdout",
     "output_type": "stream",
     "text": [
      "Avinash\n",
      "Ritu\n",
      "Brajesh\n"
     ]
    }
   ],
   "source": [
    "d={'Avinash':81, 'Deepti':75, 'Anirudh':62, 'Ritu':90, 'Brajesh':85}\n",
    "for n in d.keys():\n",
    "    if d[n]>80:\n",
    "        print (n)"
   ]
  },
  {
   "cell_type": "markdown",
   "id": "e081ba26",
   "metadata": {
    "editable": false
   },
   "source": [
    "### 2. From a dictionary that is containing data about student names and few marks obtained by each. The number of scores of the students may vary. We have to display a report that displays the names in sorted order, along with the average marks obtained by each student."
   ]
  },
  {
   "cell_type": "code",
   "execution_count": 15,
   "id": "92a4b8b9",
   "metadata": {},
   "outputs": [
    {
     "name": "stdout",
     "output_type": "stream",
     "text": [
      "Anirudh 72.25\n",
      "Avinash 78.33333333333333\n",
      "Brajesh 85.0\n",
      "Deepti 71.0\n",
      "Ritu 71.66666666666667\n"
     ]
    }
   ],
   "source": [
    "d={'Avinash':[81,67,87], 'Deepti':[75,67], 'Anirudh':[62.75,89,65], 'Ritu':[90,56,69], 'Brajesh':[85]}\n",
    "for name in sorted(d):\n",
    "    avg=(sum(d[name])/len(d[name]))\n",
    "    print(name, avg)"
   ]
  },
  {
   "cell_type": "markdown",
   "id": "97532dc7",
   "metadata": {
    "editable": false
   },
   "source": [
    "### 3. We have a string containing few temperatures that are separated by commas. We would like to find the average temperature."
   ]
  },
  {
   "cell_type": "code",
   "execution_count": 26,
   "id": "585b6907",
   "metadata": {},
   "outputs": [
    {
     "name": "stdout",
     "output_type": "stream",
     "text": [
      "32.725\n"
     ]
    }
   ],
   "source": [
    "temperatures=\"30.5,31.7,32.1,33.7,38.9,42.8,15.0,37.1\"\n",
    "temp=temperatures.split(',')\n",
    "num_temp=[]\n",
    "for t in temp:\n",
    "    num_temp.append(float(t))\n",
    "avg=sum(num_temp)/len(num_temp)\n",
    "print(avg)"
   ]
  },
  {
   "cell_type": "markdown",
   "id": "399f7adc",
   "metadata": {
    "editable": false
   },
   "source": [
    "#### 4. We have a string that contains some data. We want it to be loaded into a dictionary.\n",
    "The string is like \"U101,78,45,89,91\"\n",
    "\n",
    "This string contains data, where U101 is the rollno of a student, and there can be some scores after the rollno. All the data will be comma separated. The string can contain any number of scores for this rollno.\n",
    "\n",
    "We need this to be pulled ito a dictionary, such that the rollno should be used as the key, and the value should be a List that contains all the scores in numeric form.\n",
    "\n",
    "So finally we want { \"U101\": [78,45,89,91] }\n",
    "\n",
    "There is going to be only one key-value pair in this dictionary."
   ]
  },
  {
   "cell_type": "code",
   "execution_count": 33,
   "id": "95ea8063",
   "metadata": {},
   "outputs": [
    {
     "name": "stdout",
     "output_type": "stream",
     "text": [
      "{'U101': [78.0, 45.0, 89.0, 91.0]}\n"
     ]
    }
   ],
   "source": [
    "s=\"U101,78,45,89,91\"\n",
    "list=s.split(',')\n",
    "m_list=[]\n",
    "r_no=list[0]\n",
    "for m in list[1:]:\n",
    "    m_list.append(float(m))\n",
    "d={r_no:m_list}\n",
    "print(d)"
   ]
  },
  {
   "cell_type": "markdown",
   "id": "afadd8ed",
   "metadata": {
    "editable": false
   },
   "source": [
    "### 5. Adding on to the previous question's requirement, now we have a List that contains several data strings. We want each data string to result in one key-value pair in the dictionary. So finally we will have all the rollnos as keys, and corresponding scores as values in form of numeric Lists.\n",
    "\n",
    "data=[ \"U101,78,45,89,91\", \"U107,56,72,89\", \"U103,71,89,91,46\" ]\n",
    "\n",
    "Our program should build a dictionary which finally should look like:\n",
    "\n",
    "D={ \"U101\": [78,45,89,91] , \"U107\":[56,72,89], \"U103\":[71,89,91,46] }"
   ]
  },
  {
   "cell_type": "code",
   "execution_count": 40,
   "id": "923bc51b",
   "metadata": {},
   "outputs": [
    {
     "name": "stdout",
     "output_type": "stream",
     "text": [
      "{'U101': [78.0, 45.0, 89.0, 91.0], 'U107': [56.0, 72.0, 89.0], 'U103': [71.0, 89.0, 91.0, 46.0]}\n"
     ]
    }
   ],
   "source": [
    "data=[ \"U101,78,45,89,91\", \"U107,56,72,89\", \"U103,71,89,91,46\" ]\n",
    "d={}\n",
    "for s in data:\n",
    "    list=s.split(',')\n",
    "    m_list=[]\n",
    "    r_no=list[0]\n",
    "    for m in list[1:]:\n",
    "        m_list.append(float(m))\n",
    "    d[r_no]=m_list\n",
    "print(d)"
   ]
  },
  {
   "cell_type": "markdown",
   "id": "83b5f25c",
   "metadata": {
    "editable": false
   },
   "source": [
    "### 6. We have a DNA string in a variable called dna. Write the code to build a list of codons from this string, taking care to discard any last codon which does not get completely formed ( less than 3 bases ). Verify if total codons created are correct by comparing with length of the DNA string. The total codons should be equal to len(dna)%3"
   ]
  },
  {
   "cell_type": "code",
   "execution_count": 58,
   "id": "3a55dba7",
   "metadata": {},
   "outputs": [
    {
     "name": "stdout",
     "output_type": "stream",
     "text": [
      "['AAT', 'CGT', 'TAG', 'AAA', 'TGC', 'CGT', 'GAT', 'TAC', 'GGA', 'CGT', 'AAT']\n",
      "verified\n"
     ]
    }
   ],
   "source": [
    "dna=\"AATCGTTAGAAATGCCGTGATTACGGACGTAAT\"\n",
    "list=[]\n",
    "for i in range(0,len(dna),3):\n",
    "    codon=dna[i:(i+3)]\n",
    "    if (len(codon)==3):\n",
    "       list.append(codon) \n",
    "print(list)\n",
    "if (len(dna)//3)==(len(list)):\n",
    "    print('verified')\n",
    "else:\n",
    "    print('not verified')\n"
   ]
  },
  {
   "cell_type": "markdown",
   "id": "d50ee74f",
   "metadata": {
    "editable": false
   },
   "source": [
    "### 7. Refer to the code for the solution of Lecture-4-workbook where a dictionary was created with codon:protein mapping for translating codon to respective protein alphabet. Also refer to the code in previous question to give a list of codons from a DNA string. Now we need to build a protein string that would result from the translation of the DNA string. \n",
    "\n",
    "Note: The output should be displayed by displaying the protein string, and not by printing interim protein characters inside the loop that is iterating the codons."
   ]
  },
  {
   "cell_type": "code",
   "execution_count": 1,
   "id": "c170e654",
   "metadata": {},
   "outputs": [
    {
     "name": "stdout",
     "output_type": "stream",
     "text": [
      "NROKCRDYGRN\n"
     ]
    }
   ],
   "source": [
    "dna=\"AATCGTTAGAAATGCCGTGATTACGGACGTAAT\"\n",
    "s=\"\"\"AAA\tLys\tK\tLysine\n",
    "AAC\tAsn\tN\tAsparagine\n",
    "AAG\tLys\tK\tLysine\n",
    "AAT\tAsn\tN\tAsparagine\n",
    "ACA\tThr\tT\tThreonine\n",
    "ACC\tThr\tT\tThreonine\n",
    "ACG\tThr\tT\tThreonine\n",
    "ACT\tThr\tT\tThreonine\n",
    "AGA\tArg\tR\tArginine\n",
    "AGC\tSer\tS\tSerine\n",
    "AGG\tArg\tR\tArginine\n",
    "AGT\tSer\tS\tSerine\n",
    "ATA\tIle\tI\tIsoleucine\n",
    "ATC\tIle\tI\tIsoleucine\n",
    "ATG\tMet\tM\tMethionine\n",
    "ATT\tIle\tI\tIsoleucine\n",
    "CAA\tGln\tQ\tGlutamine\n",
    "CAC\tHis\tH\tHistidine\n",
    "CAG\tGln\tQ\tGlutamine\n",
    "CAT\tHis\tH\tHistidine\n",
    "CCA\tPro\tP\tProline\n",
    "CCC\tPro\tP\tProline\n",
    "CCG\tPro\tP\tProline\n",
    "CCT\tPro\tP\tProline\n",
    "CGA\tArg\tR\tArginine\n",
    "CGC\tArg\tR\tArginine\n",
    "CGG\tArg\tR\tArginine\n",
    "CGT\tArg\tR\tArginine\n",
    "CTA\tLeu\tL\tLeucine\n",
    "CTC\tLeu\tL\tLeucine\n",
    "CTG\tLeu\tL\tLeucine\n",
    "CTT\tLeu\tL\tLeucine\n",
    "GAA\tGlu\tE\tGlutamic_acid\n",
    "GAC\tAsp\tD\tAspartic_acid\n",
    "GAG\tGlu\tE\tGlutamic_acid\n",
    "GAT\tAsp\tD\tAspartic_acid\n",
    "GCA\tAla\tA\tAlanine\t\n",
    "GCC\tAla\tA\tAlanine\t\n",
    "GCG\tAla\tA\tAlanine\t\n",
    "GCT\tAla\tA\tAlanine\t\n",
    "GGA\tGly\tG\tGlycine\n",
    "GGC\tGly\tG\tGlycine\n",
    "GGG\tGly\tG\tGlycine\n",
    "GGT\tGly\tG\tGlycine\n",
    "GTA\tVal\tV\tValine\n",
    "GTC\tVal\tV\tValine\n",
    "GTG\tVal\tV\tValine\n",
    "GTT\tVal\tV\tValine\n",
    "TAA\tStp\tO\tStop\n",
    "TAC\tTyr\tY\tTyrosine\n",
    "TAG\tStp\tO\tStop\n",
    "TAT\tTyr\tY\tTyrosine\n",
    "TCA\tSer\tS\tSerine\n",
    "TCC\tSer\tS\tSerine\n",
    "TCG\tSer\tS\tSerine\n",
    "TCT\tSer\tS\tSerine\n",
    "TGA\tStp\tO\tStop\n",
    "TGC\tCys\tC\tCysteine\n",
    "TGG\tTrp\tW\tTryptophan\n",
    "TGT\tCys\tC\tCysteine\n",
    "TTA\tLeu\tL\tLeucine\n",
    "TTC\tPhe\tF\tPhenylalanine\n",
    "TTG\tLeu\tL\tLeucine\n",
    "TTT\tPhe\tF\tPhenylalanine\"\"\"\n",
    "L=s.split()\n",
    "codon=L[::4]\n",
    "amino=L[2::4]\n",
    "D=dict(zip(codon,amino))\n",
    "list=[]\n",
    "for i in range(0,len(dna),3):\n",
    "    codon=dna[i:(i+3)]\n",
    "    if (len(codon)==3):\n",
    "       list.append(codon) \n",
    "P=[]\n",
    "P= [D[c] for c in list]\n",
    "Final=''.join(P)\n",
    "print (Final)"
   ]
  },
  {
   "cell_type": "markdown",
   "id": "de2623df",
   "metadata": {},
   "source": [
    "*All LAB workbooks should be solved and maintained with you in form of jupyter notebooks, as this would need to be submitted for the lab work assessment purpose. You would be assessed for completeness of the workbooks, quality of solution code and a viva. ( you should save the jupyter notebook after it is completed so that your solutions are embedded in it )*\n",
    "\n",
    "*The viva would be taken before the mid term exams, and dates will be communicated in advance to you.*"
   ]
  }
 ],
 "metadata": {
  "kernelspec": {
   "display_name": "Python 3 (ipykernel)",
   "language": "python",
   "name": "python3"
  },
  "language_info": {
   "codemirror_mode": {
    "name": "ipython",
    "version": 3
   },
   "file_extension": ".py",
   "mimetype": "text/x-python",
   "name": "python",
   "nbconvert_exporter": "python",
   "pygments_lexer": "ipython3",
   "version": "3.9.4"
  }
 },
 "nbformat": 4,
 "nbformat_minor": 5
}
