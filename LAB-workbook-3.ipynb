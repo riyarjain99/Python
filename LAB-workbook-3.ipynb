{
 "cells": [
  {
   "cell_type": "markdown",
   "id": "821f96c1",
   "metadata": {},
   "source": [
    "# LAB WORKBOOK 3\n"
   ]
  },
  {
   "cell_type": "markdown",
   "id": "6a8625b5",
   "metadata": {},
   "source": [
    "### 1. Input a number and display the count and sum of the factors of that number."
   ]
  },
  {
   "cell_type": "code",
   "execution_count": 8,
   "id": "dc12abcd",
   "metadata": {},
   "outputs": [
    {
     "name": "stdout",
     "output_type": "stream",
     "text": [
      "Enter a no.25\n",
      "Count= 3\n",
      "Sum= 31\n"
     ]
    }
   ],
   "source": [
    "n=int(input(\"Enter a no.\"))\n",
    "L=[x for x in range(1,n+1) if n%x==0]\n",
    "print(\"Count=\",len(L))\n",
    "print(\"Sum=\",sum(L))"
   ]
  },
  {
   "cell_type": "markdown",
   "id": "db6d7597",
   "metadata": {},
   "source": [
    "### 2. Input a DNA string and build its reverse complement.\n"
   ]
  },
  {
   "cell_type": "code",
   "execution_count": 1,
   "id": "7627cb56",
   "metadata": {},
   "outputs": [
    {
     "name": "stdout",
     "output_type": "stream",
     "text": [
      "Enter stringatgc\n",
      "GCAT\n"
     ]
    }
   ],
   "source": [
    "dna=input(\"Enter string\")\n",
    "dna=dna.upper()\n",
    "rdna=dna[::-1]\n",
    "mytable=rdna.maketrans(\"ATGC\",\"TACG\")\n",
    "print(rdna.translate(mytable))\n"
   ]
  },
  {
   "cell_type": "markdown",
   "id": "b60aec46",
   "metadata": {},
   "source": [
    "### 3. Input a number and check if it is prime or not.\n"
   ]
  },
  {
   "cell_type": "code",
   "execution_count": 17,
   "id": "0f3f6fa4",
   "metadata": {},
   "outputs": [
    {
     "name": "stdout",
     "output_type": "stream",
     "text": [
      "Enter a number4\n",
      "Not prime\n"
     ]
    }
   ],
   "source": [
    "n=int(input(\"Enter a number\"))\n",
    "L=[]\n",
    "isp=True\n",
    "for i in range(2,n):\n",
    "    if n%i==0:\n",
    "        isp=False\n",
    "        break\n",
    "if isp==False:\n",
    "    print(\"Not prime\")\n",
    "else:\n",
    "    print('Prime')"
   ]
  },
  {
   "cell_type": "markdown",
   "id": "ddd7ddc1",
   "metadata": {},
   "source": [
    "### 4. Input a DNA string and a motif. Build a List of locations where this motif is found in the DNA string. If the motif is not found, then the list of locations would be empty."
   ]
  },
  {
   "cell_type": "code",
   "execution_count": 23,
   "id": "83cdac96",
   "metadata": {},
   "outputs": [
    {
     "name": "stdout",
     "output_type": "stream",
     "text": [
      "Enter DNA stringatatatat\n",
      "Enter motifat\n",
      "[0, 2, 4, 6]\n"
     ]
    }
   ],
   "source": [
    "dna=input(\"Enter DNA string\")\n",
    "motif=input(\"Enter motif\")\n",
    "i=0\n",
    "L=[]\n",
    "m_l=len(motif)\n",
    "while True:\n",
    "    pos=dna.find(motif,i)\n",
    "    if pos==-1:\n",
    "        break\n",
    "    L.append(pos)\n",
    "    i=pos+m_l\n",
    "print(L)"
   ]
  },
  {
   "cell_type": "markdown",
   "id": "0ef5ff17",
   "metadata": {},
   "source": [
    "### 5. Given two DNA strings of equal length, calculate the Hamming distance between them.\n",
    "\n",
    "The hamming distance is the count of non-matching corresponding bases in both the strings. \n",
    "\n",
    "dna1=\"AATGCGTA\"\n",
    "\n",
    "dna2=\"AAGGAGTA\"\n",
    "\n",
    "In the above two inputs, the Hamming distance would be 2, as there are exactly 2 bases that do not match in the corresponding locations of the strings."
   ]
  },
  {
   "cell_type": "code",
   "execution_count": 26,
   "id": "4517b64c",
   "metadata": {
    "scrolled": true
   },
   "outputs": [
    {
     "name": "stdout",
     "output_type": "stream",
     "text": [
      "Hamming distance= 2\n"
     ]
    }
   ],
   "source": [
    "dna1=\"AATGCGTA\"\n",
    "dna2=\"AAGGAGTA\"\n",
    "sl=len(dna1)\n",
    "c=0\n",
    "i=0\n",
    "while i<sl:\n",
    "    if dna1[i]!=dna2[i]:\n",
    "        c=c+1\n",
    "    i=i+1\n",
    "print(\"Hamming distance=\",c)"
   ]
  },
  {
   "cell_type": "raw",
   "id": "798b4ff8",
   "metadata": {},
   "source": [
    "# 6. Given a list containing motifs, and a long dna string, build a dictionary that contains the motifs as the keys and for each key the value should be a list containing all locations where the motif was located in the dna string.\n",
    "\n",
    "So if the list of motif is M=[\"TATA\",\"ATG\",\"GAATTC\"]\n",
    "\n",
    "Then the dictionary built could be similar to:\n",
    "\n",
    "D={ \"TATA\":[5, 15, 19], \"ATG\":[9,25], \"GAATTC\":[13,28,35]  }"
   ]
  },
  {
   "cell_type": "code",
   "execution_count": 31,
   "id": "a5cf76cd",
   "metadata": {},
   "outputs": [
    {
     "name": "stdout",
     "output_type": "stream",
     "text": [
      "{'TATA': [0, 13, 26], 'ATG': [4, 17, 30], 'GAATTC': [7, 20, 33]}\n"
     ]
    }
   ],
   "source": [
    "dna=\"TATAATGGAATTCTATAATGGAATTCTATAATGGAATTC\"\n",
    "M=[\"TATA\",\"ATG\",\"GAATTC\"]\n",
    "D={}\n",
    "for x in range(len(M)):\n",
    "    i=0\n",
    "    L=[]\n",
    "    while True:\n",
    "        pos=dna.find(M[x],i)\n",
    "        if pos==-1:\n",
    "            break\n",
    "        L.append(pos)\n",
    "        i=pos+len(M[x])\n",
    "    D[M[x]]=L\n",
    "print(D)        "
   ]
  }
 ],
 "metadata": {
  "kernelspec": {
   "display_name": "Python 3 (ipykernel)",
   "language": "python",
   "name": "python3"
  },
  "language_info": {
   "codemirror_mode": {
    "name": "ipython",
    "version": 3
   },
   "file_extension": ".py",
   "mimetype": "text/x-python",
   "name": "python",
   "nbconvert_exporter": "python",
   "pygments_lexer": "ipython3",
   "version": "3.9.4"
  }
 },
 "nbformat": 4,
 "nbformat_minor": 5
}
