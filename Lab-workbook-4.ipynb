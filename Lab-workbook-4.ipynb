{
 "cells": [
  {
   "cell_type": "markdown",
   "id": "ad259316",
   "metadata": {
    "editable": false
   },
   "source": [
    "# LAB WORKBOOK 4"
   ]
  },
  {
   "cell_type": "markdown",
   "id": "46cf67a9",
   "metadata": {
    "editable": false
   },
   "source": [
    "### 1. Create a CSV file using a spreadsheet and store few sequence IDs and corresponding sequence motifs. Write a python code that loads this data into a dictionary using the sequence IDs as keys and the sequence motifs as the values. Verify the dictionary that has been created by printing it out.\n",
    "\n",
    "Note: Your motif CSV file should be in the same folder as this notebook file"
   ]
  },
  {
   "cell_type": "code",
   "execution_count": 13,
   "id": "0083f393",
   "metadata": {},
   "outputs": [
    {
     "name": "stdout",
     "output_type": "stream",
     "text": [
      "{'AJ000409.1': 'AATTA', 'X61906.1': 'CAAAG', 'MQ105588.1': 'GGGCA'}\n"
     ]
    }
   ],
   "source": [
    "import csv\n",
    "F=open(\"Eg1.csv\",\"r\")\n",
    "D={}\n",
    "F.readline()\n",
    "cr=csv.reader(F)\n",
    "for row in cr:\n",
    "    D[row[0]]=row[2] #I have complete sequence in coulumn 2\n",
    "print(D)"
   ]
  },
  {
   "cell_type": "markdown",
   "id": "9b17a361",
   "metadata": {
    "editable": false
   },
   "source": [
    "### 2. Using the code that you have written in the first question, input a fasta filename from the keyboard, and load the sequence of this fasta. Now we have to scan this sequence for each of the motifs, and we have to display the sequence ids of the motif along with all the locations where that motif was located in the fasta sequence.\n",
    "\n",
    "Note: Your fasta file and the motif CSV file should be in the same folder as this notebook file"
   ]
  },
  {
   "cell_type": "code",
   "execution_count": 2,
   "id": "1ef16a08",
   "metadata": {},
   "outputs": [
    {
     "name": "stdout",
     "output_type": "stream",
     "text": [
      "Enter Fasta File nameAB000263.fasta\n",
      "AJ000409.1\n",
      "364\n",
      "X61906.1\n",
      "202\n",
      "336\n",
      "350\n",
      "MQ105588.1\n",
      "1\n",
      "12\n",
      "52\n",
      "58\n",
      "89\n",
      "101\n",
      "108\n",
      "114\n",
      "124\n",
      "140\n",
      "184\n",
      "189\n",
      "204\n",
      "232\n",
      "239\n",
      "249\n",
      "257\n",
      "260\n",
      "277\n",
      "290\n",
      "326\n",
      "338\n",
      "342\n",
      "352\n",
      "356\n",
      "369\n"
     ]
    }
   ],
   "source": [
    "import csv\n",
    "F=open(\"Eg1.csv\",\"r\")\n",
    "D={}\n",
    "F.readline()\n",
    "cr=csv.reader(F)\n",
    "for row in cr:\n",
    "    D[row[0]]=row[2]\n",
    "F.close()\n",
    "Fname=input(\"Enter Fasta File name\")\n",
    "with open(Fname,\"r\") as Fn:\n",
    "    Fn.readline()\n",
    "    s=Fn.read()\n",
    "    l=len(s)\n",
    "    for i in D.keys():\n",
    "        x=0\n",
    "        pos=0\n",
    "        motif=D[i]\n",
    "        print(i)\n",
    "        pos=0\n",
    "        while True:\n",
    "            pos=s.find(motif,x)\n",
    "            if pos == -1:\n",
    "                break\n",
    "            print(pos)\n",
    "            x=pos+1"
   ]
  },
  {
   "cell_type": "markdown",
   "id": "daedf3e4",
   "metadata": {
    "editable": false
   },
   "source": [
    "### 3. Load sequences from a multi-fasta file into appropriate data structure. We should be able to input a sequence id, and display its corresponding sequence.\n",
    "\n",
    "The following text can be used to create the multi-fasta file\n",
    "\n",
    "<code>\\>sequenceID-001 annotated 10-May-2021 larry wales\n",
    "AAGTAGGAATAATATCTTATCATTATAGATAAAAACCTTCTGAATTTGCTTAGTGTGTAT\n",
    "ACGACTAGACATATATCAGCTCGCCGATTATTTGGATTATTCCCTG\n",
    "\\>sequenceID-002 Mutation one\n",
    "CAGTAAAGAGTGGATGTAAGAACCGTCCGATCTACCAGATGTGATAGAGGTTGCCAGTAC\n",
    "AAAAATTGCATAATAATTGATTAATCCTTTAATATTGTTTAGAATATATCCGTCAGATAA\n",
    "TCCTAAAAATAACGATATGATGGCGGAAATCGTC\n",
    "\\>sequenceID-003 Mutation two\n",
    "CTTCAATTACCCTGCTGACGCGAGATACCTTATGCATCGAAGGTAAAGCGATGAATTTAT\n",
    "CCAAGGTTTTAATTTG</code>"
   ]
  },
  {
   "cell_type": "code",
   "execution_count": 1,
   "id": "150eb563",
   "metadata": {},
   "outputs": [
    {
     "name": "stdout",
     "output_type": "stream",
     "text": [
      "Enter seq idsequenceID-001\n",
      "AAGTAGGAATAATATCTTATCATTATAGATAAAAACCTTCTGAATTTGCTTAGTGTGTATACGACTAGACATATATCAGCTCGCCGATTATTTGGATTATTCCCTG\n"
     ]
    }
   ],
   "source": [
    "with open(\"multi2.txt\",\"r\") as F:\n",
    "    D={}\n",
    "    seqid=F.readline().split()[0][1:]\n",
    "    seq=\"\"\n",
    "    for s in F:\n",
    "        if not s.startswith(\">\"):\n",
    "            seq=seq+s.strip()\n",
    "            continue      \n",
    "        elif len(seq)>0:\n",
    "            D[seqid]=seq\n",
    "            seqid=s.split()[0][1:]\n",
    "            seq=\"\"\n",
    "    D[seqid]=seq\n",
    "id=input(\"Enter seq id\")\n",
    "for i in D.keys():\n",
    "    if id==i:\n",
    "        print(D[i])"
   ]
  },
  {
   "cell_type": "markdown",
   "id": "ae21ebe1",
   "metadata": {
    "editable": false
   },
   "source": [
    "### 4. Using the concept understood in the question 3, now make a simple multi-fasta file that contains a few sequence ids and motifs of small simple sequences. Load a long sequence from a fasta file, and input a motif sequence id that we wish to search. The result of the program should be a list of locations where the motif has been located in the big sequence.\n",
    "\n",
    "You could use the following as the multi-fasta file that we wish to use for the motifs\n",
    "<code>\n",
    "\\>start\n",
    "ATG\n",
    "\\>ecori\n",
    "GAATTC\n",
    "\\>tata\n",
    "TATA</code>"
   ]
  },
  {
   "cell_type": "code",
   "execution_count": 3,
   "id": "f41f2a36",
   "metadata": {},
   "outputs": [
    {
     "name": "stdout",
     "output_type": "stream",
     "text": [
      "Enter file nameAB000263.fasta\n",
      "Enter motif sequence idstart\n",
      "111\n",
      "281\n",
      "343\n",
      "347\n"
     ]
    }
   ],
   "source": [
    "with open(\"multi3.txt\",\"r\") as F:\n",
    "    D={}\n",
    "    seqid=F.readline().split()[0][1:]\n",
    "    seq=\"\"\n",
    "    for s in F:\n",
    "        if not s.startswith(\">\"):\n",
    "            seq=seq+s.strip()\n",
    "            continue      \n",
    "        elif len(seq)>0:\n",
    "            D[seqid]=seq\n",
    "            seqid=s.split()[0][1:]\n",
    "            seq=\"\"\n",
    "    D[seqid]=seq\n",
    "Fname=input(\"Enter file name\")\n",
    "Mname=input(\"Enter motif sequence id\")\n",
    "with open(Fname,\"r\") as Fn:\n",
    "    Fn.readline()\n",
    "    s=Fn.read()\n",
    "x=0;\n",
    "for i in D.keys():\n",
    "    if i==Mname:\n",
    "        motif=D[i]\n",
    "        pos=0\n",
    "        while True:\n",
    "            pos=s.find(motif,x)\n",
    "            if pos == -1:\n",
    "                break\n",
    "            print(pos)\n",
    "            x=pos+1"
   ]
  },
  {
   "cell_type": "markdown",
   "id": "a3fc416b",
   "metadata": {
    "editable": false
   },
   "source": [
    "### 5. Explore and understand the procedures that are used to write to a text file ( similar to the procedures that you have been told abour reading the files ). Now using a spread sheet, we have to make a CSV file that contains sequence id, sequence description and the sequence itself for 4-5 motif sequences. So you would have 3 columns and 4-5 rows in the spreadsheet that you would use to make the CSV file.\n",
    "\n",
    "### Our objective is to load the data from this CSV file and build a multi-fasta file with correct format."
   ]
  },
  {
   "cell_type": "code",
   "execution_count": 4,
   "id": "952e1822",
   "metadata": {},
   "outputs": [
    {
     "name": "stdout",
     "output_type": "stream",
     "text": [
      ">id1 start\n",
      "ATG\n",
      ">id2 ecori\n",
      "GAATTC\n",
      ">id3 tata\n",
      "TATA\n"
     ]
    }
   ],
   "source": [
    "import csv\n",
    "F=open(\"Eg2.csv\",\"r\")\n",
    "F.readline()\n",
    "cr=csv.reader(F)\n",
    "Nf = open(\"wrote.txt\", \"w\")\n",
    "for row in cr:\n",
    "    s=\">\"+row[0]+\" \"+row[2]+\"\\n\"+row[1]\n",
    "    print(s)\n",
    "    Nf.write(s)\n",
    "    "
   ]
  }
 ],
 "metadata": {
  "celltoolbar": "Edit Metadata",
  "kernelspec": {
   "display_name": "Python 3 (ipykernel)",
   "language": "python",
   "name": "python3"
  },
  "language_info": {
   "codemirror_mode": {
    "name": "ipython",
    "version": 3
   },
   "file_extension": ".py",
   "mimetype": "text/x-python",
   "name": "python",
   "nbconvert_exporter": "python",
   "pygments_lexer": "ipython3",
   "version": "3.9.4"
  }
 },
 "nbformat": 4,
 "nbformat_minor": 5
}
